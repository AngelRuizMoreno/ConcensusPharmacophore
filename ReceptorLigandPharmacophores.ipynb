{
 "cells": [
  {
   "cell_type": "code",
   "execution_count": null,
   "id": "5c492224-9174-4d92-8aed-f5888a32472d",
   "metadata": {
    "tags": []
   },
   "outputs": [],
   "source": [
    "from PyPharmer.Receptor import search_uniprot, fetch_structure\n",
    "\n",
    "from PyPharmer.Pharmacophore import get_ligand_receptor_pharmacophore\n",
    "\n",
    "import pandas as pd\n",
    "import os"
   ]
  },
  {
   "cell_type": "code",
   "execution_count": null,
   "id": "d951b563-5529-418a-a75c-54e7e1f360f9",
   "metadata": {
    "tags": []
   },
   "outputs": [],
   "source": [
    "data=search_uniprot(query='P0DTD1')\n",
    "data"
   ]
  },
  {
   "cell_type": "code",
   "execution_count": null,
   "id": "1e5a6c5f-f7c6-48e2-8b88-e798a6f7cbbd",
   "metadata": {
    "tags": []
   },
   "outputs": [],
   "source": [
    "Mpro_PDB=data.PDB.iloc[0].split(';')\n",
    "print (Mpro_PDB[:25])\n",
    "len(Mpro_PDB)"
   ]
  },
  {
   "cell_type": "code",
   "execution_count": null,
   "id": "320e64da-1684-4bc3-a374-35f7366f8789",
   "metadata": {
    "tags": []
   },
   "outputs": [],
   "source": [
    "matrix=pd.DataFrame()\n",
    "for pdb in Mpro_PDB[:10]:\n",
    "    data=fetch_structure(target=pdb,target_chain='A',reference='5R7Y',reference_chain='A',output_folder='Example',extract_ligands=True)\n",
    "    matrix=pd.concat([matrix,data])\n",
    "matrix"
   ]
  },
  {
   "cell_type": "code",
   "execution_count": null,
   "id": "13b66024-11a4-4fcb-952a-b42444640f2a",
   "metadata": {
    "tags": []
   },
   "outputs": [],
   "source": [
    "for file in os.listdir('Example/receptor/'):\n",
    "    get_ligand_receptor_pharmacophore(receptor=f\"Example/receptor/{file}\",ligand=f\"Example/ligand/{file.split('_')[0]}_lig.sdf\",out=f\"Example/pharmacophores/{file.split('_')[0]}\")"
   ]
  }
 ],
 "metadata": {
  "kernelspec": {
   "display_name": "PyPharmer",
   "language": "python",
   "name": "pypharmer"
  },
  "language_info": {
   "codemirror_mode": {
    "name": "ipython",
    "version": 3
   },
   "file_extension": ".py",
   "mimetype": "text/x-python",
   "name": "python",
   "nbconvert_exporter": "python",
   "pygments_lexer": "ipython3",
   "version": "3.6.13"
  }
 },
 "nbformat": 4,
 "nbformat_minor": 5
}
