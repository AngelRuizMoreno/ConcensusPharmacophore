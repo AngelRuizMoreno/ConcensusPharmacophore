{
 "cells": [
  {
   "cell_type": "code",
   "execution_count": 1,
   "id": "2842cc0f-0d48-441d-8c7c-006ffc3a804b",
   "metadata": {
    "tags": []
   },
   "outputs": [],
   "source": [
    "from PyPharmer.Pharmacophores import parse_json_pharmacophore, show_pharmacophoric_descriptors, save_pharmacophore_to_pymol, save_pharmacophore_to_json, compute_concensus_pharmacophore\n",
    "\n",
    "import os\n",
    "import pandas as pd"
   ]
  },
  {
   "cell_type": "code",
   "execution_count": 2,
   "id": "d1d12d86-fe9f-42f4-9ede-1c3005da0644",
   "metadata": {
    "tags": []
   },
   "outputs": [
    {
     "data": {
      "text/html": [
       "<div>\n",
       "<style scoped>\n",
       "    .dataframe tbody tr th:only-of-type {\n",
       "        vertical-align: middle;\n",
       "    }\n",
       "\n",
       "    .dataframe tbody tr th {\n",
       "        vertical-align: top;\n",
       "    }\n",
       "\n",
       "    .dataframe thead th {\n",
       "        text-align: right;\n",
       "    }\n",
       "</style>\n",
       "<table border=\"1\" class=\"dataframe\">\n",
       "  <thead>\n",
       "    <tr style=\"text-align: right;\">\n",
       "      <th></th>\n",
       "      <th>enabled</th>\n",
       "      <th>name</th>\n",
       "      <th>radius</th>\n",
       "      <th>size</th>\n",
       "      <th>svector</th>\n",
       "      <th>vector</th>\n",
       "      <th>x</th>\n",
       "      <th>y</th>\n",
       "      <th>z</th>\n",
       "      <th>color</th>\n",
       "    </tr>\n",
       "  </thead>\n",
       "  <tbody>\n",
       "    <tr>\n",
       "      <th>0</th>\n",
       "      <td>True</td>\n",
       "      <td>HydrogenAcceptor</td>\n",
       "      <td>0.5</td>\n",
       "      <td>1</td>\n",
       "      <td>{'x': 0.2347041032504655, 'y': -0.303889268014...</td>\n",
       "      <td>[{'x': 0.8040000000000003, 'y': -1.041, 'z': 3...</td>\n",
       "      <td>8.507</td>\n",
       "      <td>-3.446</td>\n",
       "      <td>27.187</td>\n",
       "      <td>orange</td>\n",
       "    </tr>\n",
       "    <tr>\n",
       "      <th>1</th>\n",
       "      <td>True</td>\n",
       "      <td>Hydrophobic</td>\n",
       "      <td>1.0</td>\n",
       "      <td>1</td>\n",
       "      <td>NaN</td>\n",
       "      <td>NaN</td>\n",
       "      <td>9.948</td>\n",
       "      <td>-5.500</td>\n",
       "      <td>26.143</td>\n",
       "      <td>green</td>\n",
       "    </tr>\n",
       "  </tbody>\n",
       "</table>\n",
       "</div>"
      ],
      "text/plain": [
       "   enabled              name  radius  size  \\\n",
       "0     True  HydrogenAcceptor     0.5     1   \n",
       "1     True       Hydrophobic     1.0     1   \n",
       "\n",
       "                                             svector  \\\n",
       "0  {'x': 0.2347041032504655, 'y': -0.303889268014...   \n",
       "1                                                NaN   \n",
       "\n",
       "                                              vector      x      y       z  \\\n",
       "0  [{'x': 0.8040000000000003, 'y': -1.041, 'z': 3...  8.507 -3.446  27.187   \n",
       "1                                                NaN  9.948 -5.500  26.143   \n",
       "\n",
       "    color  \n",
       "0  orange  \n",
       "1   green  "
      ]
     },
     "execution_count": 2,
     "metadata": {},
     "output_type": "execute_result"
    }
   ],
   "source": [
    "t,l,r=parse_json_pharmacophore(\"Example/pharmacophores/5R7Y.json\")\n",
    "t"
   ]
  },
  {
   "cell_type": "code",
   "execution_count": 4,
   "id": "3d2d4f63-8aa3-4ded-9ec2-be47afab1d40",
   "metadata": {
    "tags": []
   },
   "outputs": [],
   "source": [
    "p4_table=pd.DataFrame()\n",
    "for file in os.listdir('Example/pharmacophores/'):\n",
    "    if '.json' in file:\n",
    "        try:\n",
    "            p4,lig,rec=parse_json_pharmacophore(f\"Example/pharmacophores/{file}\")\n",
    "            p4['ligand']=file.replace('.json','')\n",
    "            p4_table=pd.concat([p4_table,p4],ignore_index=True)\n",
    "        except Exception:\n",
    "            pass"
   ]
  },
  {
   "cell_type": "code",
   "execution_count": 5,
   "id": "221142e3-acc1-4665-8b10-0c862313f95c",
   "metadata": {
    "tags": []
   },
   "outputs": [
    {
     "data": {
      "text/html": [
       "<div>\n",
       "<style scoped>\n",
       "    .dataframe tbody tr th:only-of-type {\n",
       "        vertical-align: middle;\n",
       "    }\n",
       "\n",
       "    .dataframe tbody tr th {\n",
       "        vertical-align: top;\n",
       "    }\n",
       "\n",
       "    .dataframe thead th {\n",
       "        text-align: right;\n",
       "    }\n",
       "</style>\n",
       "<table border=\"1\" class=\"dataframe\">\n",
       "  <thead>\n",
       "    <tr style=\"text-align: right;\">\n",
       "      <th></th>\n",
       "      <th>enabled</th>\n",
       "      <th>name</th>\n",
       "      <th>radius</th>\n",
       "      <th>size</th>\n",
       "      <th>svector</th>\n",
       "      <th>vector</th>\n",
       "      <th>x</th>\n",
       "      <th>y</th>\n",
       "      <th>z</th>\n",
       "      <th>color</th>\n",
       "      <th>ligand</th>\n",
       "    </tr>\n",
       "  </thead>\n",
       "  <tbody>\n",
       "    <tr>\n",
       "      <th>0</th>\n",
       "      <td>True</td>\n",
       "      <td>HydrogenAcceptor</td>\n",
       "      <td>0.5</td>\n",
       "      <td>1</td>\n",
       "      <td>{'x': 0.2347041032504655, 'y': -0.303889268014...</td>\n",
       "      <td>[{'x': 0.8040000000000003, 'y': -1.041, 'z': 3...</td>\n",
       "      <td>8.5070</td>\n",
       "      <td>-3.4460</td>\n",
       "      <td>27.1870</td>\n",
       "      <td>orange</td>\n",
       "      <td>5R7Y</td>\n",
       "    </tr>\n",
       "    <tr>\n",
       "      <th>1</th>\n",
       "      <td>True</td>\n",
       "      <td>Hydrophobic</td>\n",
       "      <td>1.0</td>\n",
       "      <td>1</td>\n",
       "      <td>NaN</td>\n",
       "      <td>NaN</td>\n",
       "      <td>9.9480</td>\n",
       "      <td>-5.5000</td>\n",
       "      <td>26.1430</td>\n",
       "      <td>green</td>\n",
       "      <td>5R7Y</td>\n",
       "    </tr>\n",
       "    <tr>\n",
       "      <th>2</th>\n",
       "      <td>True</td>\n",
       "      <td>HydrogenDonor</td>\n",
       "      <td>0.5</td>\n",
       "      <td>1</td>\n",
       "      <td>{'x': -0.3557676211088673, 'y': -0.25418650835...</td>\n",
       "      <td>[{'x': -0.9893999999999998, 'y': -0.7069000000...</td>\n",
       "      <td>11.6174</td>\n",
       "      <td>5.2669</td>\n",
       "      <td>22.6831</td>\n",
       "      <td>white</td>\n",
       "      <td>5R7Z</td>\n",
       "    </tr>\n",
       "    <tr>\n",
       "      <th>3</th>\n",
       "      <td>True</td>\n",
       "      <td>HydrogenDonor</td>\n",
       "      <td>0.5</td>\n",
       "      <td>1</td>\n",
       "      <td>{'x': 0.3889030718388793, 'y': -0.084705598098...</td>\n",
       "      <td>[{'x': 1.1625, 'y': -0.2531999999999996, 'z': ...</td>\n",
       "      <td>9.0505</td>\n",
       "      <td>5.0012</td>\n",
       "      <td>22.9142</td>\n",
       "      <td>white</td>\n",
       "      <td>5R80</td>\n",
       "    </tr>\n",
       "    <tr>\n",
       "      <th>4</th>\n",
       "      <td>True</td>\n",
       "      <td>HydrogenAcceptor</td>\n",
       "      <td>0.5</td>\n",
       "      <td>1</td>\n",
       "      <td>{'x': 0.9212933640355093, 'y': 0.2247289069833...</td>\n",
       "      <td>[{'x': 2.8078, 'y': 0.6849000000000001, 'z': 0...</td>\n",
       "      <td>14.1192</td>\n",
       "      <td>-0.5219</td>\n",
       "      <td>22.5378</td>\n",
       "      <td>orange</td>\n",
       "      <td>5R80</td>\n",
       "    </tr>\n",
       "    <tr>\n",
       "      <th>5</th>\n",
       "      <td>True</td>\n",
       "      <td>HydrogenAcceptor</td>\n",
       "      <td>0.5</td>\n",
       "      <td>1</td>\n",
       "      <td>{'x': -0.1009322475401949, 'y': -0.37401262070...</td>\n",
       "      <td>[{'x': -0.3709000000000007, 'y': -1.3744, 'z':...</td>\n",
       "      <td>10.1989</td>\n",
       "      <td>5.3444</td>\n",
       "      <td>25.2512</td>\n",
       "      <td>orange</td>\n",
       "      <td>5R80</td>\n",
       "    </tr>\n",
       "    <tr>\n",
       "      <th>6</th>\n",
       "      <td>True</td>\n",
       "      <td>Hydrophobic</td>\n",
       "      <td>1.0</td>\n",
       "      <td>1</td>\n",
       "      <td>NaN</td>\n",
       "      <td>NaN</td>\n",
       "      <td>13.7965</td>\n",
       "      <td>-2.5469</td>\n",
       "      <td>24.2454</td>\n",
       "      <td>green</td>\n",
       "      <td>5R80</td>\n",
       "    </tr>\n",
       "    <tr>\n",
       "      <th>7</th>\n",
       "      <td>True</td>\n",
       "      <td>HydrogenDonor</td>\n",
       "      <td>0.5</td>\n",
       "      <td>1</td>\n",
       "      <td>{'x': 0.973809020185767, 'y': 0.11351554342795...</td>\n",
       "      <td>[{'x': 3.823499999999999, 'y': 0.4457000000000...</td>\n",
       "      <td>11.6325</td>\n",
       "      <td>6.0783</td>\n",
       "      <td>23.5055</td>\n",
       "      <td>white</td>\n",
       "      <td>5R81</td>\n",
       "    </tr>\n",
       "    <tr>\n",
       "      <th>8</th>\n",
       "      <td>True</td>\n",
       "      <td>HydrogenAcceptor</td>\n",
       "      <td>0.5</td>\n",
       "      <td>1</td>\n",
       "      <td>{'x': -0.07483648642620724, 'y': -0.3374237647...</td>\n",
       "      <td>[{'x': -0.2949999999999999, 'y': -1.3300999999...</td>\n",
       "      <td>10.2320</td>\n",
       "      <td>4.6831</td>\n",
       "      <td>25.2750</td>\n",
       "      <td>orange</td>\n",
       "      <td>5R81</td>\n",
       "    </tr>\n",
       "    <tr>\n",
       "      <th>9</th>\n",
       "      <td>True</td>\n",
       "      <td>HydrogenDonor</td>\n",
       "      <td>0.5</td>\n",
       "      <td>1</td>\n",
       "      <td>{'x': 0.2251563148335858, 'y': 0.9712168385092...</td>\n",
       "      <td>[{'x': 0.5990000000000002, 'y': 2.5838, 'z': 0...</td>\n",
       "      <td>10.2030</td>\n",
       "      <td>0.2472</td>\n",
       "      <td>25.7112</td>\n",
       "      <td>white</td>\n",
       "      <td>5R82</td>\n",
       "    </tr>\n",
       "    <tr>\n",
       "      <th>10</th>\n",
       "      <td>True</td>\n",
       "      <td>HydrogenAcceptor</td>\n",
       "      <td>0.5</td>\n",
       "      <td>1</td>\n",
       "      <td>{'x': 0.7773989379612142, 'y': 0.3513900658938...</td>\n",
       "      <td>[{'x': 2.9765, 'y': 1.3454, 'z': 1.99750000000...</td>\n",
       "      <td>12.0815</td>\n",
       "      <td>0.4206</td>\n",
       "      <td>24.2915</td>\n",
       "      <td>orange</td>\n",
       "      <td>5R82</td>\n",
       "    </tr>\n",
       "    <tr>\n",
       "      <th>11</th>\n",
       "      <td>True</td>\n",
       "      <td>HydrogenDonor</td>\n",
       "      <td>0.5</td>\n",
       "      <td>1</td>\n",
       "      <td>{'x': -0.8127595970206084, 'y': -0.11323624186...</td>\n",
       "      <td>[{'x': -3.1086, 'y': -0.4330999999999999, 'z':...</td>\n",
       "      <td>7.4526</td>\n",
       "      <td>-0.7409</td>\n",
       "      <td>20.9042</td>\n",
       "      <td>white</td>\n",
       "      <td>5R83</td>\n",
       "    </tr>\n",
       "    <tr>\n",
       "      <th>12</th>\n",
       "      <td>True</td>\n",
       "      <td>HydrogenAcceptor</td>\n",
       "      <td>0.5</td>\n",
       "      <td>1</td>\n",
       "      <td>{'x': 0.8401167956002942, 'y': 0.4831898238218...</td>\n",
       "      <td>[{'x': 3.270300000000001, 'y': 1.8809, 'z': 0....</td>\n",
       "      <td>6.6617</td>\n",
       "      <td>0.6271</td>\n",
       "      <td>17.6257</td>\n",
       "      <td>orange</td>\n",
       "      <td>5R83</td>\n",
       "    </tr>\n",
       "    <tr>\n",
       "      <th>13</th>\n",
       "      <td>True</td>\n",
       "      <td>HydrogenAcceptor</td>\n",
       "      <td>0.5</td>\n",
       "      <td>1</td>\n",
       "      <td>{'x': 0.2047406876959268, 'y': 0.6360206896223...</td>\n",
       "      <td>[{'x': 0.6151999999999997, 'y': 1.9111, 'z': -...</td>\n",
       "      <td>9.3168</td>\n",
       "      <td>0.5969</td>\n",
       "      <td>20.8206</td>\n",
       "      <td>orange</td>\n",
       "      <td>5R83</td>\n",
       "    </tr>\n",
       "    <tr>\n",
       "      <th>14</th>\n",
       "      <td>True</td>\n",
       "      <td>HydrogenAcceptor</td>\n",
       "      <td>0.5</td>\n",
       "      <td>1</td>\n",
       "      <td>{'x': 0.7578753536900245, 'y': 0.6238569658281...</td>\n",
       "      <td>[{'x': 2.765299999999999, 'y': 2.2763, 'z': 0....</td>\n",
       "      <td>7.1817</td>\n",
       "      <td>0.3027</td>\n",
       "      <td>17.8106</td>\n",
       "      <td>orange</td>\n",
       "      <td>5R84</td>\n",
       "    </tr>\n",
       "    <tr>\n",
       "      <th>15</th>\n",
       "      <td>True</td>\n",
       "      <td>HydrogenAcceptor</td>\n",
       "      <td>0.5</td>\n",
       "      <td>1</td>\n",
       "      <td>{'x': 0.1644883932557122, 'y': 0.5587550249448...</td>\n",
       "      <td>[{'x': 0.5010999999999992, 'y': 1.7022, 'z': -...</td>\n",
       "      <td>9.4459</td>\n",
       "      <td>0.8768</td>\n",
       "      <td>20.9833</td>\n",
       "      <td>orange</td>\n",
       "      <td>5R84</td>\n",
       "    </tr>\n",
       "    <tr>\n",
       "      <th>16</th>\n",
       "      <td>True</td>\n",
       "      <td>HydrogenAcceptor</td>\n",
       "      <td>0.5</td>\n",
       "      <td>1</td>\n",
       "      <td>{'x': 0.8058199880978917, 'y': 0.5635066943969...</td>\n",
       "      <td>[{'x': 3.125, 'y': 2.1853, 'z': 0.705700000000...</td>\n",
       "      <td>6.8170</td>\n",
       "      <td>0.2747</td>\n",
       "      <td>17.7783</td>\n",
       "      <td>orange</td>\n",
       "      <td>5RE4</td>\n",
       "    </tr>\n",
       "    <tr>\n",
       "      <th>17</th>\n",
       "      <td>True</td>\n",
       "      <td>HydrogenAcceptor</td>\n",
       "      <td>0.5</td>\n",
       "      <td>1</td>\n",
       "      <td>{'x': 0.1011082635694374, 'y': 0.5416635825534...</td>\n",
       "      <td>[{'x': 0.2966999999999995, 'y': 1.5895, 'z': -...</td>\n",
       "      <td>9.6453</td>\n",
       "      <td>0.8705</td>\n",
       "      <td>20.9328</td>\n",
       "      <td>orange</td>\n",
       "      <td>5RE4</td>\n",
       "    </tr>\n",
       "    <tr>\n",
       "      <th>18</th>\n",
       "      <td>True</td>\n",
       "      <td>Hydrophobic</td>\n",
       "      <td>1.0</td>\n",
       "      <td>1</td>\n",
       "      <td>NaN</td>\n",
       "      <td>NaN</td>\n",
       "      <td>10.2243</td>\n",
       "      <td>-0.7737</td>\n",
       "      <td>22.5041</td>\n",
       "      <td>green</td>\n",
       "      <td>5RE4</td>\n",
       "    </tr>\n",
       "  </tbody>\n",
       "</table>\n",
       "</div>"
      ],
      "text/plain": [
       "    enabled              name  radius  size  \\\n",
       "0      True  HydrogenAcceptor     0.5     1   \n",
       "1      True       Hydrophobic     1.0     1   \n",
       "2      True     HydrogenDonor     0.5     1   \n",
       "3      True     HydrogenDonor     0.5     1   \n",
       "4      True  HydrogenAcceptor     0.5     1   \n",
       "5      True  HydrogenAcceptor     0.5     1   \n",
       "6      True       Hydrophobic     1.0     1   \n",
       "7      True     HydrogenDonor     0.5     1   \n",
       "8      True  HydrogenAcceptor     0.5     1   \n",
       "9      True     HydrogenDonor     0.5     1   \n",
       "10     True  HydrogenAcceptor     0.5     1   \n",
       "11     True     HydrogenDonor     0.5     1   \n",
       "12     True  HydrogenAcceptor     0.5     1   \n",
       "13     True  HydrogenAcceptor     0.5     1   \n",
       "14     True  HydrogenAcceptor     0.5     1   \n",
       "15     True  HydrogenAcceptor     0.5     1   \n",
       "16     True  HydrogenAcceptor     0.5     1   \n",
       "17     True  HydrogenAcceptor     0.5     1   \n",
       "18     True       Hydrophobic     1.0     1   \n",
       "\n",
       "                                              svector  \\\n",
       "0   {'x': 0.2347041032504655, 'y': -0.303889268014...   \n",
       "1                                                 NaN   \n",
       "2   {'x': -0.3557676211088673, 'y': -0.25418650835...   \n",
       "3   {'x': 0.3889030718388793, 'y': -0.084705598098...   \n",
       "4   {'x': 0.9212933640355093, 'y': 0.2247289069833...   \n",
       "5   {'x': -0.1009322475401949, 'y': -0.37401262070...   \n",
       "6                                                 NaN   \n",
       "7   {'x': 0.973809020185767, 'y': 0.11351554342795...   \n",
       "8   {'x': -0.07483648642620724, 'y': -0.3374237647...   \n",
       "9   {'x': 0.2251563148335858, 'y': 0.9712168385092...   \n",
       "10  {'x': 0.7773989379612142, 'y': 0.3513900658938...   \n",
       "11  {'x': -0.8127595970206084, 'y': -0.11323624186...   \n",
       "12  {'x': 0.8401167956002942, 'y': 0.4831898238218...   \n",
       "13  {'x': 0.2047406876959268, 'y': 0.6360206896223...   \n",
       "14  {'x': 0.7578753536900245, 'y': 0.6238569658281...   \n",
       "15  {'x': 0.1644883932557122, 'y': 0.5587550249448...   \n",
       "16  {'x': 0.8058199880978917, 'y': 0.5635066943969...   \n",
       "17  {'x': 0.1011082635694374, 'y': 0.5416635825534...   \n",
       "18                                                NaN   \n",
       "\n",
       "                                               vector        x       y  \\\n",
       "0   [{'x': 0.8040000000000003, 'y': -1.041, 'z': 3...   8.5070 -3.4460   \n",
       "1                                                 NaN   9.9480 -5.5000   \n",
       "2   [{'x': -0.9893999999999998, 'y': -0.7069000000...  11.6174  5.2669   \n",
       "3   [{'x': 1.1625, 'y': -0.2531999999999996, 'z': ...   9.0505  5.0012   \n",
       "4   [{'x': 2.8078, 'y': 0.6849000000000001, 'z': 0...  14.1192 -0.5219   \n",
       "5   [{'x': -0.3709000000000007, 'y': -1.3744, 'z':...  10.1989  5.3444   \n",
       "6                                                 NaN  13.7965 -2.5469   \n",
       "7   [{'x': 3.823499999999999, 'y': 0.4457000000000...  11.6325  6.0783   \n",
       "8   [{'x': -0.2949999999999999, 'y': -1.3300999999...  10.2320  4.6831   \n",
       "9   [{'x': 0.5990000000000002, 'y': 2.5838, 'z': 0...  10.2030  0.2472   \n",
       "10  [{'x': 2.9765, 'y': 1.3454, 'z': 1.99750000000...  12.0815  0.4206   \n",
       "11  [{'x': -3.1086, 'y': -0.4330999999999999, 'z':...   7.4526 -0.7409   \n",
       "12  [{'x': 3.270300000000001, 'y': 1.8809, 'z': 0....   6.6617  0.6271   \n",
       "13  [{'x': 0.6151999999999997, 'y': 1.9111, 'z': -...   9.3168  0.5969   \n",
       "14  [{'x': 2.765299999999999, 'y': 2.2763, 'z': 0....   7.1817  0.3027   \n",
       "15  [{'x': 0.5010999999999992, 'y': 1.7022, 'z': -...   9.4459  0.8768   \n",
       "16  [{'x': 3.125, 'y': 2.1853, 'z': 0.705700000000...   6.8170  0.2747   \n",
       "17  [{'x': 0.2966999999999995, 'y': 1.5895, 'z': -...   9.6453  0.8705   \n",
       "18                                                NaN  10.2243 -0.7737   \n",
       "\n",
       "          z   color ligand  \n",
       "0   27.1870  orange   5R7Y  \n",
       "1   26.1430   green   5R7Y  \n",
       "2   22.6831   white   5R7Z  \n",
       "3   22.9142   white   5R80  \n",
       "4   22.5378  orange   5R80  \n",
       "5   25.2512  orange   5R80  \n",
       "6   24.2454   green   5R80  \n",
       "7   23.5055   white   5R81  \n",
       "8   25.2750  orange   5R81  \n",
       "9   25.7112   white   5R82  \n",
       "10  24.2915  orange   5R82  \n",
       "11  20.9042   white   5R83  \n",
       "12  17.6257  orange   5R83  \n",
       "13  20.8206  orange   5R83  \n",
       "14  17.8106  orange   5R84  \n",
       "15  20.9833  orange   5R84  \n",
       "16  17.7783  orange   5RE4  \n",
       "17  20.9328  orange   5RE4  \n",
       "18  22.5041   green   5RE4  "
      ]
     },
     "execution_count": 5,
     "metadata": {},
     "output_type": "execute_result"
    }
   ],
   "source": [
    "p4_table"
   ]
  },
  {
   "cell_type": "code",
   "execution_count": 14,
   "id": "db0b2e29-b884-417b-8a37-f766b8170698",
   "metadata": {
    "tags": []
   },
   "outputs": [
    {
     "data": {
      "application/vnd.plotly.v1+json": {
       "config": {
        "plotlyServerURL": "https://plot.ly"
       },
       "data": [
        {
         "hovertemplate": "<b>%{hovertext}</b><br><br>name=HydrogenAcceptor<br>x=%{x}<br>y=%{y}<br>z=%{z}<br>radius=%{marker.size}<extra></extra>",
         "hovertext": [
          "5R7Y",
          "5R80",
          "5R80",
          "5R81",
          "5R82",
          "5R83",
          "5R83",
          "5R84",
          "5R84",
          "5RE4",
          "5RE4"
         ],
         "legendgroup": "HydrogenAcceptor",
         "marker": {
          "color": "orange",
          "line": {
           "color": "DarkSlateGrey",
           "width": 2
          },
          "size": 12,
          "sizemode": "area",
          "sizeref": 0.0025,
          "symbol": "circle"
         },
         "mode": "markers",
         "name": "HydrogenAcceptor",
         "scene": "scene",
         "showlegend": true,
         "type": "scatter3d",
         "x": [
          8.507,
          14.1192,
          10.1989,
          10.232,
          12.0815,
          6.6617,
          9.3168,
          7.1817,
          9.4459,
          6.817,
          9.6453
         ],
         "y": [
          -3.446,
          -0.5219,
          5.3444,
          4.6831,
          0.4206,
          0.6271,
          0.5969,
          0.3027,
          0.8768,
          0.2747,
          0.8705
         ],
         "z": [
          27.187,
          22.5378,
          25.2512,
          25.275,
          24.2915,
          17.6257,
          20.8206,
          17.8106,
          20.9833,
          17.7783,
          20.9328
         ]
        },
        {
         "hovertemplate": "<b>%{hovertext}</b><br><br>name=Hydrophobic<br>x=%{x}<br>y=%{y}<br>z=%{z}<br>radius=%{marker.size}<extra></extra>",
         "hovertext": [
          "5R7Y",
          "5R80",
          "5RE4"
         ],
         "legendgroup": "Hydrophobic",
         "marker": {
          "color": "green",
          "line": {
           "color": "DarkSlateGrey",
           "width": 2
          },
          "size": 12,
          "sizemode": "area",
          "sizeref": 0.0025,
          "symbol": "circle"
         },
         "mode": "markers",
         "name": "Hydrophobic",
         "scene": "scene",
         "showlegend": true,
         "type": "scatter3d",
         "x": [
          9.948,
          13.7965,
          10.2243
         ],
         "y": [
          -5.5,
          -2.5469,
          -0.7737
         ],
         "z": [
          26.143,
          24.2454,
          22.5041
         ]
        },
        {
         "hovertemplate": "<b>%{hovertext}</b><br><br>name=HydrogenDonor<br>x=%{x}<br>y=%{y}<br>z=%{z}<br>radius=%{marker.size}<extra></extra>",
         "hovertext": [
          "5R7Z",
          "5R80",
          "5R81",
          "5R82",
          "5R83"
         ],
         "legendgroup": "HydrogenDonor",
         "marker": {
          "color": "white",
          "line": {
           "color": "DarkSlateGrey",
           "width": 2
          },
          "size": 12,
          "sizemode": "area",
          "sizeref": 0.0025,
          "symbol": "circle"
         },
         "mode": "markers",
         "name": "HydrogenDonor",
         "scene": "scene",
         "showlegend": true,
         "type": "scatter3d",
         "x": [
          11.6174,
          9.0505,
          11.6325,
          10.203,
          7.4526
         ],
         "y": [
          5.2669,
          5.0012,
          6.0783,
          0.2472,
          -0.7409
         ],
         "z": [
          22.6831,
          22.9142,
          23.5055,
          25.7112,
          20.9042
         ]
        },
        {
         "colorscale": [
          [
           0,
           "black"
          ],
          [
           1,
           "black"
          ]
         ],
         "lighting": {
          "roughness": 1
         },
         "showlegend": false,
         "showscale": false,
         "sizemode": "absolute",
         "sizeref": 0.2,
         "type": "cone",
         "u": [
          0.2347041032504655,
          -0.3557676211088673,
          0.3889030718388793,
          0.9212933640355093,
          -0.1009322475401949,
          0.973809020185767,
          -0.07483648642620724,
          0.2251563148335858,
          0.7773989379612142,
          -0.8127595970206084,
          0.8401167956002942,
          0.2047406876959268,
          0.7578753536900245,
          0.1644883932557122,
          0.8058199880978917,
          0.1011082635694374
         ],
         "v": [
          -0.3038892680145952,
          -0.2541865083503723,
          -0.08470559809858422,
          0.224728906983375,
          -0.3740126207043506,
          0.1135155434279578,
          -0.3374237647305025,
          0.9712168385092136,
          0.351390065893841,
          -0.1132362418676013,
          0.4831898238218491,
          0.6360206896223763,
          0.6238569658281573,
          0.558755024944869,
          0.5635066943969033,
          0.5416635825534918
         ],
         "w": [
          0.9233446251010228,
          -0.8993434375938837,
          -0.9173763471798498,
          0.3173569847194042,
          0.921914985755383,
          0.1970030801918895,
          0.938373434883189,
          0.07773343223303006,
          0.5217048139014034,
          0.5714887496518195,
          0.2464373427573508,
          -0.7440154119197234,
          0.1908597245542016,
          -0.812856931189624,
          0.1819734929922183,
          -0.8344924699320477
         ],
         "x": [
          8.507,
          11.6174,
          9.0505,
          14.1192,
          10.1989,
          11.6325,
          10.232,
          10.203,
          12.0815,
          7.4526,
          6.6617,
          9.3168,
          7.1817,
          9.4459,
          6.817,
          9.6453
         ],
         "y": [
          -3.446,
          5.2669,
          5.0012,
          -0.5219,
          5.3444,
          6.0783,
          4.6831,
          0.2472,
          0.4206,
          -0.7409,
          0.6271,
          0.5969,
          0.3027,
          0.8768,
          0.2747,
          0.8705
         ],
         "z": [
          27.187,
          22.6831,
          22.9142,
          22.5378,
          25.2512,
          23.5055,
          25.275,
          25.7112,
          24.2915,
          20.9042,
          17.6257,
          20.8206,
          17.8106,
          20.9833,
          17.7783,
          20.9328
         ]
        }
       ],
       "layout": {
        "height": 800,
        "scene": {
         "aspectratio": {
          "x": 1,
          "y": 1,
          "z": 0.8
         },
         "camera": {
          "center": {
           "x": 0,
           "y": 0,
           "z": 0
          },
          "eye": {
           "x": 0.9613075559841138,
           "y": 1.0990301382379921,
           "z": 1.052625545031295
          },
          "projection": {
           "type": "perspective"
          },
          "up": {
           "x": 0,
           "y": 0,
           "z": 1
          }
         }
        },
        "template": {
         "data": {
          "bar": [
           {
            "error_x": {
             "color": "#2a3f5f"
            },
            "error_y": {
             "color": "#2a3f5f"
            },
            "marker": {
             "line": {
              "color": "#E5ECF6",
              "width": 0.5
             },
             "pattern": {
              "fillmode": "overlay",
              "size": 10,
              "solidity": 0.2
             }
            },
            "type": "bar"
           }
          ],
          "barpolar": [
           {
            "marker": {
             "line": {
              "color": "#E5ECF6",
              "width": 0.5
             },
             "pattern": {
              "fillmode": "overlay",
              "size": 10,
              "solidity": 0.2
             }
            },
            "type": "barpolar"
           }
          ],
          "carpet": [
           {
            "aaxis": {
             "endlinecolor": "#2a3f5f",
             "gridcolor": "white",
             "linecolor": "white",
             "minorgridcolor": "white",
             "startlinecolor": "#2a3f5f"
            },
            "baxis": {
             "endlinecolor": "#2a3f5f",
             "gridcolor": "white",
             "linecolor": "white",
             "minorgridcolor": "white",
             "startlinecolor": "#2a3f5f"
            },
            "type": "carpet"
           }
          ],
          "choropleth": [
           {
            "colorbar": {
             "outlinewidth": 0,
             "ticks": ""
            },
            "type": "choropleth"
           }
          ],
          "contour": [
           {
            "colorbar": {
             "outlinewidth": 0,
             "ticks": ""
            },
            "colorscale": [
             [
              0,
              "#0d0887"
             ],
             [
              0.1111111111111111,
              "#46039f"
             ],
             [
              0.2222222222222222,
              "#7201a8"
             ],
             [
              0.3333333333333333,
              "#9c179e"
             ],
             [
              0.4444444444444444,
              "#bd3786"
             ],
             [
              0.5555555555555556,
              "#d8576b"
             ],
             [
              0.6666666666666666,
              "#ed7953"
             ],
             [
              0.7777777777777778,
              "#fb9f3a"
             ],
             [
              0.8888888888888888,
              "#fdca26"
             ],
             [
              1,
              "#f0f921"
             ]
            ],
            "type": "contour"
           }
          ],
          "contourcarpet": [
           {
            "colorbar": {
             "outlinewidth": 0,
             "ticks": ""
            },
            "type": "contourcarpet"
           }
          ],
          "heatmap": [
           {
            "colorbar": {
             "outlinewidth": 0,
             "ticks": ""
            },
            "colorscale": [
             [
              0,
              "#0d0887"
             ],
             [
              0.1111111111111111,
              "#46039f"
             ],
             [
              0.2222222222222222,
              "#7201a8"
             ],
             [
              0.3333333333333333,
              "#9c179e"
             ],
             [
              0.4444444444444444,
              "#bd3786"
             ],
             [
              0.5555555555555556,
              "#d8576b"
             ],
             [
              0.6666666666666666,
              "#ed7953"
             ],
             [
              0.7777777777777778,
              "#fb9f3a"
             ],
             [
              0.8888888888888888,
              "#fdca26"
             ],
             [
              1,
              "#f0f921"
             ]
            ],
            "type": "heatmap"
           }
          ],
          "heatmapgl": [
           {
            "colorbar": {
             "outlinewidth": 0,
             "ticks": ""
            },
            "colorscale": [
             [
              0,
              "#0d0887"
             ],
             [
              0.1111111111111111,
              "#46039f"
             ],
             [
              0.2222222222222222,
              "#7201a8"
             ],
             [
              0.3333333333333333,
              "#9c179e"
             ],
             [
              0.4444444444444444,
              "#bd3786"
             ],
             [
              0.5555555555555556,
              "#d8576b"
             ],
             [
              0.6666666666666666,
              "#ed7953"
             ],
             [
              0.7777777777777778,
              "#fb9f3a"
             ],
             [
              0.8888888888888888,
              "#fdca26"
             ],
             [
              1,
              "#f0f921"
             ]
            ],
            "type": "heatmapgl"
           }
          ],
          "histogram": [
           {
            "marker": {
             "pattern": {
              "fillmode": "overlay",
              "size": 10,
              "solidity": 0.2
             }
            },
            "type": "histogram"
           }
          ],
          "histogram2d": [
           {
            "colorbar": {
             "outlinewidth": 0,
             "ticks": ""
            },
            "colorscale": [
             [
              0,
              "#0d0887"
             ],
             [
              0.1111111111111111,
              "#46039f"
             ],
             [
              0.2222222222222222,
              "#7201a8"
             ],
             [
              0.3333333333333333,
              "#9c179e"
             ],
             [
              0.4444444444444444,
              "#bd3786"
             ],
             [
              0.5555555555555556,
              "#d8576b"
             ],
             [
              0.6666666666666666,
              "#ed7953"
             ],
             [
              0.7777777777777778,
              "#fb9f3a"
             ],
             [
              0.8888888888888888,
              "#fdca26"
             ],
             [
              1,
              "#f0f921"
             ]
            ],
            "type": "histogram2d"
           }
          ],
          "histogram2dcontour": [
           {
            "colorbar": {
             "outlinewidth": 0,
             "ticks": ""
            },
            "colorscale": [
             [
              0,
              "#0d0887"
             ],
             [
              0.1111111111111111,
              "#46039f"
             ],
             [
              0.2222222222222222,
              "#7201a8"
             ],
             [
              0.3333333333333333,
              "#9c179e"
             ],
             [
              0.4444444444444444,
              "#bd3786"
             ],
             [
              0.5555555555555556,
              "#d8576b"
             ],
             [
              0.6666666666666666,
              "#ed7953"
             ],
             [
              0.7777777777777778,
              "#fb9f3a"
             ],
             [
              0.8888888888888888,
              "#fdca26"
             ],
             [
              1,
              "#f0f921"
             ]
            ],
            "type": "histogram2dcontour"
           }
          ],
          "mesh3d": [
           {
            "colorbar": {
             "outlinewidth": 0,
             "ticks": ""
            },
            "type": "mesh3d"
           }
          ],
          "parcoords": [
           {
            "line": {
             "colorbar": {
              "outlinewidth": 0,
              "ticks": ""
             }
            },
            "type": "parcoords"
           }
          ],
          "pie": [
           {
            "automargin": true,
            "type": "pie"
           }
          ],
          "scatter": [
           {
            "fillpattern": {
             "fillmode": "overlay",
             "size": 10,
             "solidity": 0.2
            },
            "type": "scatter"
           }
          ],
          "scatter3d": [
           {
            "line": {
             "colorbar": {
              "outlinewidth": 0,
              "ticks": ""
             }
            },
            "marker": {
             "colorbar": {
              "outlinewidth": 0,
              "ticks": ""
             }
            },
            "type": "scatter3d"
           }
          ],
          "scattercarpet": [
           {
            "marker": {
             "colorbar": {
              "outlinewidth": 0,
              "ticks": ""
             }
            },
            "type": "scattercarpet"
           }
          ],
          "scattergeo": [
           {
            "marker": {
             "colorbar": {
              "outlinewidth": 0,
              "ticks": ""
             }
            },
            "type": "scattergeo"
           }
          ],
          "scattergl": [
           {
            "marker": {
             "colorbar": {
              "outlinewidth": 0,
              "ticks": ""
             }
            },
            "type": "scattergl"
           }
          ],
          "scattermapbox": [
           {
            "marker": {
             "colorbar": {
              "outlinewidth": 0,
              "ticks": ""
             }
            },
            "type": "scattermapbox"
           }
          ],
          "scatterpolar": [
           {
            "marker": {
             "colorbar": {
              "outlinewidth": 0,
              "ticks": ""
             }
            },
            "type": "scatterpolar"
           }
          ],
          "scatterpolargl": [
           {
            "marker": {
             "colorbar": {
              "outlinewidth": 0,
              "ticks": ""
             }
            },
            "type": "scatterpolargl"
           }
          ],
          "scatterternary": [
           {
            "marker": {
             "colorbar": {
              "outlinewidth": 0,
              "ticks": ""
             }
            },
            "type": "scatterternary"
           }
          ],
          "surface": [
           {
            "colorbar": {
             "outlinewidth": 0,
             "ticks": ""
            },
            "colorscale": [
             [
              0,
              "#0d0887"
             ],
             [
              0.1111111111111111,
              "#46039f"
             ],
             [
              0.2222222222222222,
              "#7201a8"
             ],
             [
              0.3333333333333333,
              "#9c179e"
             ],
             [
              0.4444444444444444,
              "#bd3786"
             ],
             [
              0.5555555555555556,
              "#d8576b"
             ],
             [
              0.6666666666666666,
              "#ed7953"
             ],
             [
              0.7777777777777778,
              "#fb9f3a"
             ],
             [
              0.8888888888888888,
              "#fdca26"
             ],
             [
              1,
              "#f0f921"
             ]
            ],
            "type": "surface"
           }
          ],
          "table": [
           {
            "cells": {
             "fill": {
              "color": "#EBF0F8"
             },
             "line": {
              "color": "white"
             }
            },
            "header": {
             "fill": {
              "color": "#C8D4E3"
             },
             "line": {
              "color": "white"
             }
            },
            "type": "table"
           }
          ]
         },
         "layout": {
          "annotationdefaults": {
           "arrowcolor": "#2a3f5f",
           "arrowhead": 0,
           "arrowwidth": 1
          },
          "autotypenumbers": "strict",
          "coloraxis": {
           "colorbar": {
            "outlinewidth": 0,
            "ticks": ""
           }
          },
          "colorscale": {
           "diverging": [
            [
             0,
             "#8e0152"
            ],
            [
             0.1,
             "#c51b7d"
            ],
            [
             0.2,
             "#de77ae"
            ],
            [
             0.3,
             "#f1b6da"
            ],
            [
             0.4,
             "#fde0ef"
            ],
            [
             0.5,
             "#f7f7f7"
            ],
            [
             0.6,
             "#e6f5d0"
            ],
            [
             0.7,
             "#b8e186"
            ],
            [
             0.8,
             "#7fbc41"
            ],
            [
             0.9,
             "#4d9221"
            ],
            [
             1,
             "#276419"
            ]
           ],
           "sequential": [
            [
             0,
             "#0d0887"
            ],
            [
             0.1111111111111111,
             "#46039f"
            ],
            [
             0.2222222222222222,
             "#7201a8"
            ],
            [
             0.3333333333333333,
             "#9c179e"
            ],
            [
             0.4444444444444444,
             "#bd3786"
            ],
            [
             0.5555555555555556,
             "#d8576b"
            ],
            [
             0.6666666666666666,
             "#ed7953"
            ],
            [
             0.7777777777777778,
             "#fb9f3a"
            ],
            [
             0.8888888888888888,
             "#fdca26"
            ],
            [
             1,
             "#f0f921"
            ]
           ],
           "sequentialminus": [
            [
             0,
             "#0d0887"
            ],
            [
             0.1111111111111111,
             "#46039f"
            ],
            [
             0.2222222222222222,
             "#7201a8"
            ],
            [
             0.3333333333333333,
             "#9c179e"
            ],
            [
             0.4444444444444444,
             "#bd3786"
            ],
            [
             0.5555555555555556,
             "#d8576b"
            ],
            [
             0.6666666666666666,
             "#ed7953"
            ],
            [
             0.7777777777777778,
             "#fb9f3a"
            ],
            [
             0.8888888888888888,
             "#fdca26"
            ],
            [
             1,
             "#f0f921"
            ]
           ]
          },
          "colorway": [
           "#636efa",
           "#EF553B",
           "#00cc96",
           "#ab63fa",
           "#FFA15A",
           "#19d3f3",
           "#FF6692",
           "#B6E880",
           "#FF97FF",
           "#FECB52"
          ],
          "font": {
           "color": "#2a3f5f"
          },
          "geo": {
           "bgcolor": "white",
           "lakecolor": "white",
           "landcolor": "#E5ECF6",
           "showlakes": true,
           "showland": true,
           "subunitcolor": "white"
          },
          "hoverlabel": {
           "align": "left"
          },
          "hovermode": "closest",
          "mapbox": {
           "style": "light"
          },
          "paper_bgcolor": "white",
          "plot_bgcolor": "#E5ECF6",
          "polar": {
           "angularaxis": {
            "gridcolor": "white",
            "linecolor": "white",
            "ticks": ""
           },
           "bgcolor": "#E5ECF6",
           "radialaxis": {
            "gridcolor": "white",
            "linecolor": "white",
            "ticks": ""
           }
          },
          "scene": {
           "xaxis": {
            "backgroundcolor": "#E5ECF6",
            "gridcolor": "white",
            "gridwidth": 2,
            "linecolor": "white",
            "showbackground": true,
            "ticks": "",
            "zerolinecolor": "white"
           },
           "yaxis": {
            "backgroundcolor": "#E5ECF6",
            "gridcolor": "white",
            "gridwidth": 2,
            "linecolor": "white",
            "showbackground": true,
            "ticks": "",
            "zerolinecolor": "white"
           },
           "zaxis": {
            "backgroundcolor": "#E5ECF6",
            "gridcolor": "white",
            "gridwidth": 2,
            "linecolor": "white",
            "showbackground": true,
            "ticks": "",
            "zerolinecolor": "white"
           }
          },
          "shapedefaults": {
           "line": {
            "color": "#2a3f5f"
           }
          },
          "ternary": {
           "aaxis": {
            "gridcolor": "white",
            "linecolor": "white",
            "ticks": ""
           },
           "baxis": {
            "gridcolor": "white",
            "linecolor": "white",
            "ticks": ""
           },
           "bgcolor": "#E5ECF6",
           "caxis": {
            "gridcolor": "white",
            "linecolor": "white",
            "ticks": ""
           }
          },
          "title": {
           "x": 0.05
          },
          "xaxis": {
           "automargin": true,
           "gridcolor": "white",
           "linecolor": "white",
           "ticks": "",
           "title": {
            "standoff": 15
           },
           "zerolinecolor": "white",
           "zerolinewidth": 2
          },
          "yaxis": {
           "automargin": true,
           "gridcolor": "white",
           "linecolor": "white",
           "ticks": "",
           "title": {
            "standoff": 15
           },
           "zerolinecolor": "white",
           "zerolinewidth": 2
          }
         }
        },
        "width": 800
       }
      },
      "image/png": "[encoded data removed]",
      "text/html": [
       "<div>                            <div id=\"1e686a31-f5a5-48d9-8a2d-bbb1eb395d41\" class=\"plotly-graph-div\" style=\"height:800px; width:800px;\"></div>            <script type=\"text/javascript\">                require([\"plotly\"], function(Plotly) {                    window.PLOTLYENV=window.PLOTLYENV || {};                                    if (document.getElementById(\"1e686a31-f5a5-48d9-8a2d-bbb1eb395d41\")) {                    Plotly.newPlot(                        \"1e686a31-f5a5-48d9-8a2d-bbb1eb395d41\",                        [{\"hovertemplate\":\"\\u003cb\\u003e%{hovertext}\\u003c\\u002fb\\u003e\\u003cbr\\u003e\\u003cbr\\u003ename=HydrogenAcceptor\\u003cbr\\u003ex=%{x}\\u003cbr\\u003ey=%{y}\\u003cbr\\u003ez=%{z}\\u003cbr\\u003eradius=%{marker.size}\\u003cextra\\u003e\\u003c\\u002fextra\\u003e\",\"hovertext\":[\"5R7Y\",\"5R80\",\"5R80\",\"5R81\",\"5R82\",\"5R83\",\"5R83\",\"5R84\",\"5R84\",\"5RE4\",\"5RE4\"],\"legendgroup\":\"HydrogenAcceptor\",\"marker\":{\"color\":\"orange\",\"line\":{\"color\":\"DarkSlateGrey\",\"width\":2},\"size\":12,\"sizemode\":\"area\",\"sizeref\":0.0025,\"symbol\":\"circle\"},\"mode\":\"markers\",\"name\":\"HydrogenAcceptor\",\"scene\":\"scene\",\"showlegend\":true,\"x\":[8.507,14.1192,10.1989,10.232,12.0815,6.6617,9.3168,7.1817,9.4459,6.817,9.6453],\"y\":[-3.446,-0.5219,5.3444,4.6831,0.4206,0.6271,0.5969,0.3027,0.8768,0.2747,0.8705],\"z\":[27.187,22.5378,25.2512,25.275,24.2915,17.6257,20.8206,17.8106,20.9833,17.7783,20.9328],\"type\":\"scatter3d\"},{\"hovertemplate\":\"\\u003cb\\u003e%{hovertext}\\u003c\\u002fb\\u003e\\u003cbr\\u003e\\u003cbr\\u003ename=Hydrophobic\\u003cbr\\u003ex=%{x}\\u003cbr\\u003ey=%{y}\\u003cbr\\u003ez=%{z}\\u003cbr\\u003eradius=%{marker.size}\\u003cextra\\u003e\\u003c\\u002fextra\\u003e\",\"hovertext\":[\"5R7Y\",\"5R80\",\"5RE4\"],\"legendgroup\":\"Hydrophobic\",\"marker\":{\"color\":\"green\",\"line\":{\"color\":\"DarkSlateGrey\",\"width\":2},\"size\":12,\"sizemode\":\"area\",\"sizeref\":0.0025,\"symbol\":\"circle\"},\"mode\":\"markers\",\"name\":\"Hydrophobic\",\"scene\":\"scene\",\"showlegend\":true,\"x\":[9.948,13.7965,10.2243],\"y\":[-5.5,-2.5469,-0.7737],\"z\":[26.143,24.2454,22.5041],\"type\":\"scatter3d\"},{\"hovertemplate\":\"\\u003cb\\u003e%{hovertext}\\u003c\\u002fb\\u003e\\u003cbr\\u003e\\u003cbr\\u003ename=HydrogenDonor\\u003cbr\\u003ex=%{x}\\u003cbr\\u003ey=%{y}\\u003cbr\\u003ez=%{z}\\u003cbr\\u003eradius=%{marker.size}\\u003cextra\\u003e\\u003c\\u002fextra\\u003e\",\"hovertext\":[\"5R7Z\",\"5R80\",\"5R81\",\"5R82\",\"5R83\"],\"legendgroup\":\"HydrogenDonor\",\"marker\":{\"color\":\"white\",\"line\":{\"color\":\"DarkSlateGrey\",\"width\":2},\"size\":12,\"sizemode\":\"area\",\"sizeref\":0.0025,\"symbol\":\"circle\"},\"mode\":\"markers\",\"name\":\"HydrogenDonor\",\"scene\":\"scene\",\"showlegend\":true,\"x\":[11.6174,9.0505,11.6325,10.203,7.4526],\"y\":[5.2669,5.0012,6.0783,0.2472,-0.7409],\"z\":[22.6831,22.9142,23.5055,25.7112,20.9042],\"type\":\"scatter3d\"},{\"colorscale\":[[0.0,\"black\"],[1.0,\"black\"]],\"lighting\":{\"roughness\":1},\"showlegend\":false,\"showscale\":false,\"sizemode\":\"absolute\",\"sizeref\":0.2,\"u\":[0.2347041032504655,-0.3557676211088673,0.3889030718388793,0.9212933640355093,-0.1009322475401949,0.973809020185767,-0.07483648642620724,0.2251563148335858,0.7773989379612142,-0.8127595970206084,0.8401167956002942,0.2047406876959268,0.7578753536900245,0.1644883932557122,0.8058199880978917,0.1011082635694374],\"v\":[-0.3038892680145952,-0.2541865083503723,-0.08470559809858422,0.224728906983375,-0.3740126207043506,0.1135155434279578,-0.3374237647305025,0.9712168385092136,0.351390065893841,-0.1132362418676013,0.4831898238218491,0.6360206896223763,0.6238569658281573,0.558755024944869,0.5635066943969033,0.5416635825534918],\"w\":[0.9233446251010228,-0.8993434375938837,-0.9173763471798498,0.3173569847194042,0.921914985755383,0.1970030801918895,0.938373434883189,0.07773343223303006,0.5217048139014034,0.5714887496518195,0.2464373427573508,-0.7440154119197234,0.1908597245542016,-0.812856931189624,0.1819734929922183,-0.8344924699320477],\"x\":[8.507,11.6174,9.0505,14.1192,10.1989,11.6325,10.232,10.203,12.0815,7.4526,6.6617,9.3168,7.1817,9.4459,6.817,9.6453],\"y\":[-3.446,5.2669,5.0012,-0.5219,5.3444,6.0783,4.6831,0.2472,0.4206,-0.7409,0.6271,0.5969,0.3027,0.8768,0.2747,0.8705],\"z\":[27.187,22.6831,22.9142,22.5378,25.2512,23.5055,25.275,25.7112,24.2915,20.9042,17.6257,20.8206,17.8106,20.9833,17.7783,20.9328],\"type\":\"cone\"}],                        {\"template\":{\"data\":{\"histogram2dcontour\":[{\"type\":\"histogram2dcontour\",\"colorbar\":{\"outlinewidth\":0,\"ticks\":\"\"},\"colorscale\":[[0.0,\"#0d0887\"],[0.1111111111111111,\"#46039f\"],[0.2222222222222222,\"#7201a8\"],[0.3333333333333333,\"#9c179e\"],[0.4444444444444444,\"#bd3786\"],[0.5555555555555556,\"#d8576b\"],[0.6666666666666666,\"#ed7953\"],[0.7777777777777778,\"#fb9f3a\"],[0.8888888888888888,\"#fdca26\"],[1.0,\"#f0f921\"]]}],\"choropleth\":[{\"type\":\"choropleth\",\"colorbar\":{\"outlinewidth\":0,\"ticks\":\"\"}}],\"histogram2d\":[{\"type\":\"histogram2d\",\"colorbar\":{\"outlinewidth\":0,\"ticks\":\"\"},\"colorscale\":[[0.0,\"#0d0887\"],[0.1111111111111111,\"#46039f\"],[0.2222222222222222,\"#7201a8\"],[0.3333333333333333,\"#9c179e\"],[0.4444444444444444,\"#bd3786\"],[0.5555555555555556,\"#d8576b\"],[0.6666666666666666,\"#ed7953\"],[0.7777777777777778,\"#fb9f3a\"],[0.8888888888888888,\"#fdca26\"],[1.0,\"#f0f921\"]]}],\"heatmap\":[{\"type\":\"heatmap\",\"colorbar\":{\"outlinewidth\":0,\"ticks\":\"\"},\"colorscale\":[[0.0,\"#0d0887\"],[0.1111111111111111,\"#46039f\"],[0.2222222222222222,\"#7201a8\"],[0.3333333333333333,\"#9c179e\"],[0.4444444444444444,\"#bd3786\"],[0.5555555555555556,\"#d8576b\"],[0.6666666666666666,\"#ed7953\"],[0.7777777777777778,\"#fb9f3a\"],[0.8888888888888888,\"#fdca26\"],[1.0,\"#f0f921\"]]}],\"heatmapgl\":[{\"type\":\"heatmapgl\",\"colorbar\":{\"outlinewidth\":0,\"ticks\":\"\"},\"colorscale\":[[0.0,\"#0d0887\"],[0.1111111111111111,\"#46039f\"],[0.2222222222222222,\"#7201a8\"],[0.3333333333333333,\"#9c179e\"],[0.4444444444444444,\"#bd3786\"],[0.5555555555555556,\"#d8576b\"],[0.6666666666666666,\"#ed7953\"],[0.7777777777777778,\"#fb9f3a\"],[0.8888888888888888,\"#fdca26\"],[1.0,\"#f0f921\"]]}],\"contourcarpet\":[{\"type\":\"contourcarpet\",\"colorbar\":{\"outlinewidth\":0,\"ticks\":\"\"}}],\"contour\":[{\"type\":\"contour\",\"colorbar\":{\"outlinewidth\":0,\"ticks\":\"\"},\"colorscale\":[[0.0,\"#0d0887\"],[0.1111111111111111,\"#46039f\"],[0.2222222222222222,\"#7201a8\"],[0.3333333333333333,\"#9c179e\"],[0.4444444444444444,\"#bd3786\"],[0.5555555555555556,\"#d8576b\"],[0.6666666666666666,\"#ed7953\"],[0.7777777777777778,\"#fb9f3a\"],[0.8888888888888888,\"#fdca26\"],[1.0,\"#f0f921\"]]}],\"surface\":[{\"type\":\"surface\",\"colorbar\":{\"outlinewidth\":0,\"ticks\":\"\"},\"colorscale\":[[0.0,\"#0d0887\"],[0.1111111111111111,\"#46039f\"],[0.2222222222222222,\"#7201a8\"],[0.3333333333333333,\"#9c179e\"],[0.4444444444444444,\"#bd3786\"],[0.5555555555555556,\"#d8576b\"],[0.6666666666666666,\"#ed7953\"],[0.7777777777777778,\"#fb9f3a\"],[0.8888888888888888,\"#fdca26\"],[1.0,\"#f0f921\"]]}],\"mesh3d\":[{\"type\":\"mesh3d\",\"colorbar\":{\"outlinewidth\":0,\"ticks\":\"\"}}],\"scatter\":[{\"fillpattern\":{\"fillmode\":\"overlay\",\"size\":10,\"solidity\":0.2},\"type\":\"scatter\"}],\"parcoords\":[{\"type\":\"parcoords\",\"line\":{\"colorbar\":{\"outlinewidth\":0,\"ticks\":\"\"}}}],\"scatterpolargl\":[{\"type\":\"scatterpolargl\",\"marker\":{\"colorbar\":{\"outlinewidth\":0,\"ticks\":\"\"}}}],\"bar\":[{\"error_x\":{\"color\":\"#2a3f5f\"},\"error_y\":{\"color\":\"#2a3f5f\"},\"marker\":{\"line\":{\"color\":\"#E5ECF6\",\"width\":0.5},\"pattern\":{\"fillmode\":\"overlay\",\"size\":10,\"solidity\":0.2}},\"type\":\"bar\"}],\"scattergeo\":[{\"type\":\"scattergeo\",\"marker\":{\"colorbar\":{\"outlinewidth\":0,\"ticks\":\"\"}}}],\"scatterpolar\":[{\"type\":\"scatterpolar\",\"marker\":{\"colorbar\":{\"outlinewidth\":0,\"ticks\":\"\"}}}],\"histogram\":[{\"marker\":{\"pattern\":{\"fillmode\":\"overlay\",\"size\":10,\"solidity\":0.2}},\"type\":\"histogram\"}],\"scattergl\":[{\"type\":\"scattergl\",\"marker\":{\"colorbar\":{\"outlinewidth\":0,\"ticks\":\"\"}}}],\"scatter3d\":[{\"type\":\"scatter3d\",\"line\":{\"colorbar\":{\"outlinewidth\":0,\"ticks\":\"\"}},\"marker\":{\"colorbar\":{\"outlinewidth\":0,\"ticks\":\"\"}}}],\"scattermapbox\":[{\"type\":\"scattermapbox\",\"marker\":{\"colorbar\":{\"outlinewidth\":0,\"ticks\":\"\"}}}],\"scatterternary\":[{\"type\":\"scatterternary\",\"marker\":{\"colorbar\":{\"outlinewidth\":0,\"ticks\":\"\"}}}],\"scattercarpet\":[{\"type\":\"scattercarpet\",\"marker\":{\"colorbar\":{\"outlinewidth\":0,\"ticks\":\"\"}}}],\"carpet\":[{\"aaxis\":{\"endlinecolor\":\"#2a3f5f\",\"gridcolor\":\"white\",\"linecolor\":\"white\",\"minorgridcolor\":\"white\",\"startlinecolor\":\"#2a3f5f\"},\"baxis\":{\"endlinecolor\":\"#2a3f5f\",\"gridcolor\":\"white\",\"linecolor\":\"white\",\"minorgridcolor\":\"white\",\"startlinecolor\":\"#2a3f5f\"},\"type\":\"carpet\"}],\"table\":[{\"cells\":{\"fill\":{\"color\":\"#EBF0F8\"},\"line\":{\"color\":\"white\"}},\"header\":{\"fill\":{\"color\":\"#C8D4E3\"},\"line\":{\"color\":\"white\"}},\"type\":\"table\"}],\"barpolar\":[{\"marker\":{\"line\":{\"color\":\"#E5ECF6\",\"width\":0.5},\"pattern\":{\"fillmode\":\"overlay\",\"size\":10,\"solidity\":0.2}},\"type\":\"barpolar\"}],\"pie\":[{\"automargin\":true,\"type\":\"pie\"}]},\"layout\":{\"autotypenumbers\":\"strict\",\"colorway\":[\"#636efa\",\"#EF553B\",\"#00cc96\",\"#ab63fa\",\"#FFA15A\",\"#19d3f3\",\"#FF6692\",\"#B6E880\",\"#FF97FF\",\"#FECB52\"],\"font\":{\"color\":\"#2a3f5f\"},\"hovermode\":\"closest\",\"hoverlabel\":{\"align\":\"left\"},\"paper_bgcolor\":\"white\",\"plot_bgcolor\":\"#E5ECF6\",\"polar\":{\"bgcolor\":\"#E5ECF6\",\"angularaxis\":{\"gridcolor\":\"white\",\"linecolor\":\"white\",\"ticks\":\"\"},\"radialaxis\":{\"gridcolor\":\"white\",\"linecolor\":\"white\",\"ticks\":\"\"}},\"ternary\":{\"bgcolor\":\"#E5ECF6\",\"aaxis\":{\"gridcolor\":\"white\",\"linecolor\":\"white\",\"ticks\":\"\"},\"baxis\":{\"gridcolor\":\"white\",\"linecolor\":\"white\",\"ticks\":\"\"},\"caxis\":{\"gridcolor\":\"white\",\"linecolor\":\"white\",\"ticks\":\"\"}},\"coloraxis\":{\"colorbar\":{\"outlinewidth\":0,\"ticks\":\"\"}},\"colorscale\":{\"sequential\":[[0.0,\"#0d0887\"],[0.1111111111111111,\"#46039f\"],[0.2222222222222222,\"#7201a8\"],[0.3333333333333333,\"#9c179e\"],[0.4444444444444444,\"#bd3786\"],[0.5555555555555556,\"#d8576b\"],[0.6666666666666666,\"#ed7953\"],[0.7777777777777778,\"#fb9f3a\"],[0.8888888888888888,\"#fdca26\"],[1.0,\"#f0f921\"]],\"sequentialminus\":[[0.0,\"#0d0887\"],[0.1111111111111111,\"#46039f\"],[0.2222222222222222,\"#7201a8\"],[0.3333333333333333,\"#9c179e\"],[0.4444444444444444,\"#bd3786\"],[0.5555555555555556,\"#d8576b\"],[0.6666666666666666,\"#ed7953\"],[0.7777777777777778,\"#fb9f3a\"],[0.8888888888888888,\"#fdca26\"],[1.0,\"#f0f921\"]],\"diverging\":[[0,\"#8e0152\"],[0.1,\"#c51b7d\"],[0.2,\"#de77ae\"],[0.3,\"#f1b6da\"],[0.4,\"#fde0ef\"],[0.5,\"#f7f7f7\"],[0.6,\"#e6f5d0\"],[0.7,\"#b8e186\"],[0.8,\"#7fbc41\"],[0.9,\"#4d9221\"],[1,\"#276419\"]]},\"xaxis\":{\"gridcolor\":\"white\",\"linecolor\":\"white\",\"ticks\":\"\",\"title\":{\"standoff\":15},\"zerolinecolor\":\"white\",\"automargin\":true,\"zerolinewidth\":2},\"yaxis\":{\"gridcolor\":\"white\",\"linecolor\":\"white\",\"ticks\":\"\",\"title\":{\"standoff\":15},\"zerolinecolor\":\"white\",\"automargin\":true,\"zerolinewidth\":2},\"scene\":{\"xaxis\":{\"backgroundcolor\":\"#E5ECF6\",\"gridcolor\":\"white\",\"linecolor\":\"white\",\"showbackground\":true,\"ticks\":\"\",\"zerolinecolor\":\"white\",\"gridwidth\":2},\"yaxis\":{\"backgroundcolor\":\"#E5ECF6\",\"gridcolor\":\"white\",\"linecolor\":\"white\",\"showbackground\":true,\"ticks\":\"\",\"zerolinecolor\":\"white\",\"gridwidth\":2},\"zaxis\":{\"backgroundcolor\":\"#E5ECF6\",\"gridcolor\":\"white\",\"linecolor\":\"white\",\"showbackground\":true,\"ticks\":\"\",\"zerolinecolor\":\"white\",\"gridwidth\":2}},\"shapedefaults\":{\"line\":{\"color\":\"#2a3f5f\"}},\"annotationdefaults\":{\"arrowcolor\":\"#2a3f5f\",\"arrowhead\":0,\"arrowwidth\":1},\"geo\":{\"bgcolor\":\"white\",\"landcolor\":\"#E5ECF6\",\"subunitcolor\":\"white\",\"showland\":true,\"showlakes\":true,\"lakecolor\":\"white\"},\"title\":{\"x\":0.05},\"mapbox\":{\"style\":\"light\"}}},\"scene\":{\"aspectratio\":{\"x\":1,\"y\":1,\"z\":0.8},\"camera\":{\"eye\":{\"x\":1.2,\"y\":1.2,\"z\":0.6}}},\"width\":800,\"height\":800},                        {\"responsive\": true}                    ).then(function(){\n",
       "                            \n",
       "var gd = document.getElementById('1e686a31-f5a5-48d9-8a2d-bbb1eb395d41');\n",
       "var x = new MutationObserver(function (mutations, observer) {{\n",
       "        var display = window.getComputedStyle(gd).display;\n",
       "        if (!display || display === 'none') {{\n",
       "            console.log([gd, 'removed!']);\n",
       "            Plotly.purge(gd);\n",
       "            observer.disconnect();\n",
       "        }}\n",
       "}});\n",
       "\n",
       "// Listen for the removal of the full notebook cells\n",
       "var notebookContainer = gd.closest('#notebook-container');\n",
       "if (notebookContainer) {{\n",
       "    x.observe(notebookContainer, {childList: true});\n",
       "}}\n",
       "\n",
       "// Listen for the clearing of the current output cell\n",
       "var outputEl = gd.closest('.output');\n",
       "if (outputEl) {{\n",
       "    x.observe(outputEl, {childList: true});\n",
       "}}\n",
       "\n",
       "                        })                };                });            </script>        </div>"
      ]
     },
     "metadata": {},
     "output_type": "display_data"
    }
   ],
   "source": [
    "show_pharmacophoric_descriptors(p4_table,show_vectors=True)"
   ]
  },
  {
   "cell_type": "code",
   "execution_count": 7,
   "id": "b4180062-3a74-48bb-954e-dbedd5fb70c2",
   "metadata": {
    "tags": []
   },
   "outputs": [
    {
     "name": "stdout",
     "output_type": "stream",
     "text": [
      " PyMOL not running, entering library mode (experimental)\n"
     ]
    }
   ],
   "source": [
    "save_pharmacophore_to_pymol(p4_table,out_file='Example/analysis/pharmacophore_all_descriptors.pse')"
   ]
  },
  {
   "cell_type": "code",
   "execution_count": 8,
   "id": "23b44433-a70f-41c1-9b90-083b85054fd6",
   "metadata": {
    "tags": []
   },
   "outputs": [],
   "source": [
    "save_pharmacophore_to_json(p4_table,out_file='Example/analysis/pharmacophore_all_descriptors.json')"
   ]
  },
  {
   "cell_type": "code",
   "execution_count": 9,
   "id": "d20a5bb9-3c23-41f5-9113-342c75936212",
   "metadata": {
    "tags": []
   },
   "outputs": [
    {
     "data": {
      "text/html": [
       "<div>\n",
       "<style scoped>\n",
       "    .dataframe tbody tr th:only-of-type {\n",
       "        vertical-align: middle;\n",
       "    }\n",
       "\n",
       "    .dataframe tbody tr th {\n",
       "        vertical-align: top;\n",
       "    }\n",
       "\n",
       "    .dataframe thead th {\n",
       "        text-align: right;\n",
       "    }\n",
       "</style>\n",
       "<table border=\"1\" class=\"dataframe\">\n",
       "  <thead>\n",
       "    <tr style=\"text-align: right;\">\n",
       "      <th></th>\n",
       "      <th>name</th>\n",
       "      <th>cluster</th>\n",
       "      <th>x</th>\n",
       "      <th>y</th>\n",
       "      <th>z</th>\n",
       "      <th>radius</th>\n",
       "      <th>color</th>\n",
       "      <th>weight</th>\n",
       "      <th>balance</th>\n",
       "    </tr>\n",
       "  </thead>\n",
       "  <tbody>\n",
       "    <tr>\n",
       "      <th>1</th>\n",
       "      <td>HydrogenAcceptor</td>\n",
       "      <td>1.0</td>\n",
       "      <td>9.469333</td>\n",
       "      <td>0.78140</td>\n",
       "      <td>20.912233</td>\n",
       "      <td>0.5</td>\n",
       "      <td>orange</td>\n",
       "      <td>3.0</td>\n",
       "      <td>0.120000</td>\n",
       "    </tr>\n",
       "    <tr>\n",
       "      <th>2</th>\n",
       "      <td>HydrogenAcceptor</td>\n",
       "      <td>2.0</td>\n",
       "      <td>6.886800</td>\n",
       "      <td>0.40150</td>\n",
       "      <td>17.738200</td>\n",
       "      <td>0.5</td>\n",
       "      <td>orange</td>\n",
       "      <td>3.0</td>\n",
       "      <td>0.120000</td>\n",
       "    </tr>\n",
       "    <tr>\n",
       "      <th>3</th>\n",
       "      <td>HydrogenAcceptor</td>\n",
       "      <td>3.0</td>\n",
       "      <td>10.215450</td>\n",
       "      <td>5.01375</td>\n",
       "      <td>25.263100</td>\n",
       "      <td>0.5</td>\n",
       "      <td>orange</td>\n",
       "      <td>2.0</td>\n",
       "      <td>0.080000</td>\n",
       "    </tr>\n",
       "    <tr>\n",
       "      <th>4</th>\n",
       "      <td>HydrogenAcceptor</td>\n",
       "      <td>4.0</td>\n",
       "      <td>14.119200</td>\n",
       "      <td>-0.52190</td>\n",
       "      <td>22.537800</td>\n",
       "      <td>0.5</td>\n",
       "      <td>orange</td>\n",
       "      <td>1.0</td>\n",
       "      <td>0.040000</td>\n",
       "    </tr>\n",
       "    <tr>\n",
       "      <th>5</th>\n",
       "      <td>HydrogenAcceptor</td>\n",
       "      <td>5.0</td>\n",
       "      <td>12.081500</td>\n",
       "      <td>0.42060</td>\n",
       "      <td>24.291500</td>\n",
       "      <td>0.5</td>\n",
       "      <td>orange</td>\n",
       "      <td>1.0</td>\n",
       "      <td>0.040000</td>\n",
       "    </tr>\n",
       "    <tr>\n",
       "      <th>6</th>\n",
       "      <td>HydrogenAcceptor</td>\n",
       "      <td>6.0</td>\n",
       "      <td>8.507000</td>\n",
       "      <td>-3.44600</td>\n",
       "      <td>27.187000</td>\n",
       "      <td>0.5</td>\n",
       "      <td>orange</td>\n",
       "      <td>1.0</td>\n",
       "      <td>0.040000</td>\n",
       "    </tr>\n",
       "    <tr>\n",
       "      <th>7</th>\n",
       "      <td>HydrogenDonor</td>\n",
       "      <td>1.0</td>\n",
       "      <td>11.624950</td>\n",
       "      <td>5.67260</td>\n",
       "      <td>23.094300</td>\n",
       "      <td>0.5</td>\n",
       "      <td>white</td>\n",
       "      <td>2.0</td>\n",
       "      <td>0.285714</td>\n",
       "    </tr>\n",
       "    <tr>\n",
       "      <th>8</th>\n",
       "      <td>HydrogenDonor</td>\n",
       "      <td>2.0</td>\n",
       "      <td>9.050500</td>\n",
       "      <td>5.00120</td>\n",
       "      <td>22.914200</td>\n",
       "      <td>0.5</td>\n",
       "      <td>white</td>\n",
       "      <td>1.0</td>\n",
       "      <td>0.142857</td>\n",
       "    </tr>\n",
       "    <tr>\n",
       "      <th>9</th>\n",
       "      <td>HydrogenDonor</td>\n",
       "      <td>3.0</td>\n",
       "      <td>10.203000</td>\n",
       "      <td>0.24720</td>\n",
       "      <td>25.711200</td>\n",
       "      <td>0.5</td>\n",
       "      <td>white</td>\n",
       "      <td>1.0</td>\n",
       "      <td>0.142857</td>\n",
       "    </tr>\n",
       "    <tr>\n",
       "      <th>10</th>\n",
       "      <td>HydrogenDonor</td>\n",
       "      <td>4.0</td>\n",
       "      <td>7.452600</td>\n",
       "      <td>-0.74090</td>\n",
       "      <td>20.904200</td>\n",
       "      <td>0.5</td>\n",
       "      <td>white</td>\n",
       "      <td>1.0</td>\n",
       "      <td>0.142857</td>\n",
       "    </tr>\n",
       "    <tr>\n",
       "      <th>11</th>\n",
       "      <td>Hydrophobic</td>\n",
       "      <td>1.0</td>\n",
       "      <td>13.796500</td>\n",
       "      <td>-2.54690</td>\n",
       "      <td>24.245400</td>\n",
       "      <td>1.0</td>\n",
       "      <td>green</td>\n",
       "      <td>1.0</td>\n",
       "      <td>0.333333</td>\n",
       "    </tr>\n",
       "    <tr>\n",
       "      <th>12</th>\n",
       "      <td>Hydrophobic</td>\n",
       "      <td>2.0</td>\n",
       "      <td>10.224300</td>\n",
       "      <td>-0.77370</td>\n",
       "      <td>22.504100</td>\n",
       "      <td>1.0</td>\n",
       "      <td>green</td>\n",
       "      <td>1.0</td>\n",
       "      <td>0.333333</td>\n",
       "    </tr>\n",
       "    <tr>\n",
       "      <th>13</th>\n",
       "      <td>Hydrophobic</td>\n",
       "      <td>3.0</td>\n",
       "      <td>9.948000</td>\n",
       "      <td>-5.50000</td>\n",
       "      <td>26.143000</td>\n",
       "      <td>1.0</td>\n",
       "      <td>green</td>\n",
       "      <td>1.0</td>\n",
       "      <td>0.333333</td>\n",
       "    </tr>\n",
       "  </tbody>\n",
       "</table>\n",
       "</div>"
      ],
      "text/plain": [
       "                name  cluster          x        y          z  radius   color  \\\n",
       "1   HydrogenAcceptor      1.0   9.469333  0.78140  20.912233     0.5  orange   \n",
       "2   HydrogenAcceptor      2.0   6.886800  0.40150  17.738200     0.5  orange   \n",
       "3   HydrogenAcceptor      3.0  10.215450  5.01375  25.263100     0.5  orange   \n",
       "4   HydrogenAcceptor      4.0  14.119200 -0.52190  22.537800     0.5  orange   \n",
       "5   HydrogenAcceptor      5.0  12.081500  0.42060  24.291500     0.5  orange   \n",
       "6   HydrogenAcceptor      6.0   8.507000 -3.44600  27.187000     0.5  orange   \n",
       "7      HydrogenDonor      1.0  11.624950  5.67260  23.094300     0.5   white   \n",
       "8      HydrogenDonor      2.0   9.050500  5.00120  22.914200     0.5   white   \n",
       "9      HydrogenDonor      3.0  10.203000  0.24720  25.711200     0.5   white   \n",
       "10     HydrogenDonor      4.0   7.452600 -0.74090  20.904200     0.5   white   \n",
       "11       Hydrophobic      1.0  13.796500 -2.54690  24.245400     1.0   green   \n",
       "12       Hydrophobic      2.0  10.224300 -0.77370  22.504100     1.0   green   \n",
       "13       Hydrophobic      3.0   9.948000 -5.50000  26.143000     1.0   green   \n",
       "\n",
       "    weight   balance  \n",
       "1      3.0  0.120000  \n",
       "2      3.0  0.120000  \n",
       "3      2.0  0.080000  \n",
       "4      1.0  0.040000  \n",
       "5      1.0  0.040000  \n",
       "6      1.0  0.040000  \n",
       "7      2.0  0.285714  \n",
       "8      1.0  0.142857  \n",
       "9      1.0  0.142857  \n",
       "10     1.0  0.142857  \n",
       "11     1.0  0.333333  \n",
       "12     1.0  0.333333  \n",
       "13     1.0  0.333333  "
      ]
     },
     "execution_count": 9,
     "metadata": {},
     "output_type": "execute_result"
    },
    {
     "data": {
      "image/png": "[encoded data removed]",
      "text/plain": [
       "<Figure size 720x720 with 4 Axes>"
      ]
     },
     "metadata": {
      "needs_background": "light"
     },
     "output_type": "display_data"
    },
    {
     "data": {
      "image/png": "[encoded data removed]",
      "text/plain": [
       "<Figure size 720x720 with 4 Axes>"
      ]
     },
     "metadata": {
      "needs_background": "light"
     },
     "output_type": "display_data"
    },
    {
     "data": {
      "image/png": "[encoded data removed]",
      "text/plain": [
       "<Figure size 720x720 with 4 Axes>"
      ]
     },
     "metadata": {
      "needs_background": "light"
     },
     "output_type": "display_data"
    }
   ],
   "source": [
    "concensus,links=compute_concensus_pharmacophore(p4_table,save_data_per_descriptor=True,out_folder='Example/analysis/')\n",
    "concensus"
   ]
  },
  {
   "cell_type": "code",
   "execution_count": 10,
   "id": "f72c4947-56c6-4e90-bd55-ada6ae0690a5",
   "metadata": {
    "tags": []
   },
   "outputs": [
    {
     "data": {
      "text/plain": [
       "array([[ 0.        ,  7.85252891,  9.15865598,  8.52722908,  6.00928998,\n",
       "        10.55527041,  7.5849763 , 10.1845986 ,  7.61931931, 10.25784306,\n",
       "         7.68393888],\n",
       "       [ 7.85252891,  0.        ,  7.55941581,  7.04944059,  2.84885788,\n",
       "         9.0035123 ,  5.22144952,  8.43535958,  5.11982078,  8.7526874 ,\n",
       "         4.95283595],\n",
       "       [ 9.15865598,  7.55941581,  0.        ,  0.66255546,  5.35807925,\n",
       "         9.63913655,  6.55340164,  9.48075752,  6.22426134,  9.64278695,\n",
       "         6.24266231],\n",
       "       [ 8.52722908,  7.04944059,  0.66255546,  0.        ,  4.74940299,\n",
       "         9.36536003,  6.11361602,  9.17657352,  5.79003988,  9.34327172,\n",
       "         5.80816981],\n",
       "       [ 6.00928998,  2.84885788,  5.35807925,  4.74940299,  0.        ,\n",
       "         8.59358854,  4.44092272,  8.12551569,  4.25425587,  8.37603852,\n",
       "         4.17352922],\n",
       "       [10.55527041,  9.0035123 ,  9.63913655,  9.36536003,  8.59358854,\n",
       "         0.        ,  4.15425734,  0.64017448,  4.36893551,  0.41423497,\n",
       "         4.46072   ],\n",
       "       [ 7.5849763 ,  5.22144952,  6.55340164,  6.11361602,  4.44092272,\n",
       "         4.15425734,  0.        ,  3.70206775,  0.34854284,  3.95074704,\n",
       "         0.44199327],\n",
       "       [10.1845986 ,  8.43535958,  9.48075752,  9.17657352,  8.12551569,\n",
       "         0.64017448,  3.70206775,  0.        ,  3.93982458,  0.36719665,\n",
       "         4.01744379],\n",
       "       [ 7.61931931,  5.11982078,  6.22426134,  5.79003988,  4.25425587,\n",
       "         4.36893551,  0.34854284,  3.93982458,  0.        ,  4.18875454,\n",
       "         0.20579189],\n",
       "       [10.25784306,  8.7526874 ,  9.64278695,  9.34327172,  8.37603852,\n",
       "         0.41423497,  3.95074704,  0.36719665,  4.18875454,  0.        ,\n",
       "         4.27844934],\n",
       "       [ 7.68393888,  4.95283595,  6.24266231,  5.80816981,  4.17352922,\n",
       "         4.46072   ,  0.44199327,  4.01744379,  0.20579189,  4.27844934,\n",
       "         0.        ]])"
      ]
     },
     "execution_count": 10,
     "metadata": {},
     "output_type": "execute_result"
    }
   ],
   "source": [
    "links['HydrogenAcceptor']['matrix']"
   ]
  },
  {
   "cell_type": "code",
   "execution_count": 11,
   "id": "6f681aef-0cdf-48aa-8150-f729fbddc0cd",
   "metadata": {
    "tags": []
   },
   "outputs": [
    {
     "data": {
      "text/plain": [
       "array([[ 8.        , 10.        ,  0.39391824,  2.        ],\n",
       "       [ 5.        ,  9.        ,  0.85088643,  2.        ],\n",
       "       [ 6.        , 11.        ,  1.02721302,  3.        ],\n",
       "       [ 7.        , 12.        ,  1.46525639,  3.        ],\n",
       "       [ 2.        ,  3.        ,  1.65383046,  2.        ],\n",
       "       [ 1.        ,  4.        ,  5.66896962,  2.        ],\n",
       "       [13.        , 14.        , 12.86957278,  6.        ],\n",
       "       [15.        , 16.        , 13.03958151,  4.        ],\n",
       "       [ 0.        , 18.        , 15.39238901,  5.        ],\n",
       "       [17.        , 19.        , 21.35398639, 11.        ]])"
      ]
     },
     "execution_count": 11,
     "metadata": {},
     "output_type": "execute_result"
    }
   ],
   "source": [
    "links['HydrogenAcceptor']['linkage']"
   ]
  },
  {
   "cell_type": "code",
   "execution_count": 12,
   "id": "11e6d11b-9d90-4f9d-ad07-7d9707f9a73f",
   "metadata": {
    "tags": []
   },
   "outputs": [],
   "source": [
    "save_pharmacophore_to_pymol(concensus,out_file='Example/analysis/pharmacophore_concensus.pse',select='concensus')"
   ]
  },
  {
   "cell_type": "code",
   "execution_count": 13,
   "id": "fa3f2774-0c10-4b1b-88d3-b5d040b7a0a0",
   "metadata": {
    "tags": []
   },
   "outputs": [],
   "source": [
    "save_pharmacophore_to_json(p4_table,out_file='Example/analysis/pharmacophore_concensus.json')"
   ]
  }
 ],
 "metadata": {
  "kernelspec": {
   "display_name": "PyPharmer",
   "language": "python",
   "name": "pypharmer"
  },
  "language_info": {
   "codemirror_mode": {
    "name": "ipython",
    "version": 3
   },
   "file_extension": ".py",
   "mimetype": "text/x-python",
   "name": "python",
   "nbconvert_exporter": "python",
   "pygments_lexer": "ipython3",
   "version": "3.6.13"
  }
 },
 "nbformat": 4,
 "nbformat_minor": 5
}
