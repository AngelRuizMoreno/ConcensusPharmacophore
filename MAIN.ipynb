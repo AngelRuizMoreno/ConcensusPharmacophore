{
 "cells": [
  {
   "cell_type": "code",
   "execution_count": 1,
   "id": "5c492224-9174-4d92-8aed-f5888a32472d",
   "metadata": {
    "tags": []
   },
   "outputs": [],
   "source": [
    "from PyPharmer.Receptor import search_uniprot, fetch_structure\n",
    "\n",
    "import pandas as pd"
   ]
  },
  {
   "cell_type": "code",
   "execution_count": 2,
   "id": "d951b563-5529-418a-a75c-54e7e1f360f9",
   "metadata": {
    "tags": []
   },
   "outputs": [
    {
     "data": {
      "text/html": [
       "<div>\n",
       "<style scoped>\n",
       "    .dataframe tbody tr th:only-of-type {\n",
       "        vertical-align: middle;\n",
       "    }\n",
       "\n",
       "    .dataframe tbody tr th {\n",
       "        vertical-align: top;\n",
       "    }\n",
       "\n",
       "    .dataframe thead th {\n",
       "        text-align: right;\n",
       "    }\n",
       "</style>\n",
       "<table border=\"1\" class=\"dataframe\">\n",
       "  <thead>\n",
       "    <tr style=\"text-align: right;\">\n",
       "      <th></th>\n",
       "      <th>ACCESION</th>\n",
       "      <th>ENTRY_id</th>\n",
       "      <th>STATUS</th>\n",
       "      <th>SCORE</th>\n",
       "      <th>EXISTENCE</th>\n",
       "      <th>PROTEIN_name</th>\n",
       "      <th>FUNCTION</th>\n",
       "      <th>GENE_name</th>\n",
       "      <th>GENE_id</th>\n",
       "      <th>REFSEQ</th>\n",
       "      <th>...</th>\n",
       "      <th>BIOCYC</th>\n",
       "      <th>INTERPRO</th>\n",
       "      <th>PFAM</th>\n",
       "      <th>FEATURE_active_site</th>\n",
       "      <th>FEATURE_site</th>\n",
       "      <th>FEATURE_binding</th>\n",
       "      <th>CATALYTIC_activity</th>\n",
       "      <th>RHEA</th>\n",
       "      <th>LENGTH</th>\n",
       "      <th>SEQUENCE</th>\n",
       "    </tr>\n",
       "  </thead>\n",
       "  <tbody>\n",
       "    <tr>\n",
       "      <th>0</th>\n",
       "      <td>P0DTD1</td>\n",
       "      <td>R1AB_SARS2</td>\n",
       "      <td>reviewed</td>\n",
       "      <td>5.0</td>\n",
       "      <td>Evidence at protein level</td>\n",
       "      <td>Replicase polyprotein 1ab (pp1ab) (ORF1ab poly...</td>\n",
       "      <td>FUNCTION: [Replicase polyprotein 1ab]: Multifu...</td>\n",
       "      <td>rep</td>\n",
       "      <td>NaN</td>\n",
       "      <td>NaN</td>\n",
       "      <td>...</td>\n",
       "      <td>NaN</td>\n",
       "      <td>IPR027351;IPR046443;IPR046440;IPR046442;IPR046...</td>\n",
       "      <td>PF16251;PF11501;PF12379;PF12124;PF11633;PF0647...</td>\n",
       "      <td>ACT_SITE 1674; /note=\"For PL-PRO activity\"; /e...</td>\n",
       "      <td>SITE 180..181; /note=\"Cleavage; by PL-PRO\"; /e...</td>\n",
       "      <td>BINDING 200; /ligand=\"Zn(2+)\"; /ligand_id=\"ChE...</td>\n",
       "      <td>CATALYTIC ACTIVITY: [RNA-directed RNA polymera...</td>\n",
       "      <td>RHEA:21248 RHEA:13065 RHEA:13065 RHEA:67020 RH...</td>\n",
       "      <td>7096</td>\n",
       "      <td>MESLVPGFNEKTHVQLSLPVLQVRDVLVRGFGDSVEEVLSEARQHL...</td>\n",
       "    </tr>\n",
       "  </tbody>\n",
       "</table>\n",
       "<p>1 rows × 34 columns</p>\n",
       "</div>"
      ],
      "text/plain": [
       "  ACCESION    ENTRY_id    STATUS  SCORE                  EXISTENCE  \\\n",
       "0   P0DTD1  R1AB_SARS2  reviewed    5.0  Evidence at protein level   \n",
       "\n",
       "                                        PROTEIN_name  \\\n",
       "0  Replicase polyprotein 1ab (pp1ab) (ORF1ab poly...   \n",
       "\n",
       "                                            FUNCTION GENE_name  GENE_id  \\\n",
       "0  FUNCTION: [Replicase polyprotein 1ab]: Multifu...       rep      NaN   \n",
       "\n",
       "   REFSEQ  ... BIOCYC                                           INTERPRO  \\\n",
       "0     NaN  ...    NaN  IPR027351;IPR046443;IPR046440;IPR046442;IPR046...   \n",
       "\n",
       "                                                PFAM  \\\n",
       "0  PF16251;PF11501;PF12379;PF12124;PF11633;PF0647...   \n",
       "\n",
       "                                 FEATURE_active_site  \\\n",
       "0  ACT_SITE 1674; /note=\"For PL-PRO activity\"; /e...   \n",
       "\n",
       "                                        FEATURE_site  \\\n",
       "0  SITE 180..181; /note=\"Cleavage; by PL-PRO\"; /e...   \n",
       "\n",
       "                                     FEATURE_binding  \\\n",
       "0  BINDING 200; /ligand=\"Zn(2+)\"; /ligand_id=\"ChE...   \n",
       "\n",
       "                                  CATALYTIC_activity  \\\n",
       "0  CATALYTIC ACTIVITY: [RNA-directed RNA polymera...   \n",
       "\n",
       "                                                RHEA LENGTH  \\\n",
       "0  RHEA:21248 RHEA:13065 RHEA:13065 RHEA:67020 RH...   7096   \n",
       "\n",
       "                                            SEQUENCE  \n",
       "0  MESLVPGFNEKTHVQLSLPVLQVRDVLVRGFGDSVEEVLSEARQHL...  \n",
       "\n",
       "[1 rows x 34 columns]"
      ]
     },
     "execution_count": 2,
     "metadata": {},
     "output_type": "execute_result"
    }
   ],
   "source": [
    "data=search_uniprot(query='P0DTD1')\n",
    "data"
   ]
  },
  {
   "cell_type": "code",
   "execution_count": 3,
   "id": "1e5a6c5f-f7c6-48e2-8b88-e798a6f7cbbd",
   "metadata": {
    "tags": []
   },
   "outputs": [
    {
     "name": "stdout",
     "output_type": "stream",
     "text": [
      "['5R7Y', '5R7Z', '5R80', '5R81', '5R82', '5R83', '5R84', '5R8T', '5RE4', '5RE5', '5RE6', '5RE7', '5RE8', '5RE9', '5REA', '5REB', '5REC', '5RED', '5REE', '5REF', '5REG', '5REH', '5REI', '5REJ', '5REK']\n"
     ]
    },
    {
     "data": {
      "text/plain": [
       "1347"
      ]
     },
     "execution_count": 3,
     "metadata": {},
     "output_type": "execute_result"
    }
   ],
   "source": [
    "Mpro_PDB=data.PDB.iloc[0].split(';')\n",
    "print (Mpro_PDB[:25])\n",
    "len(Mpro_PDB)"
   ]
  },
  {
   "cell_type": "code",
   "execution_count": 4,
   "id": "320e64da-1684-4bc3-a374-35f7366f8789",
   "metadata": {
    "tags": []
   },
   "outputs": [
    {
     "name": "stdout",
     "output_type": "stream",
     "text": [
      " PyMOL not running, entering library mode (experimental)\n"
     ]
    },
    {
     "data": {
      "text/html": [
       "<div>\n",
       "<style scoped>\n",
       "    .dataframe tbody tr th:only-of-type {\n",
       "        vertical-align: middle;\n",
       "    }\n",
       "\n",
       "    .dataframe tbody tr th {\n",
       "        vertical-align: top;\n",
       "    }\n",
       "\n",
       "    .dataframe thead th {\n",
       "        text-align: right;\n",
       "    }\n",
       "</style>\n",
       "<table border=\"1\" class=\"dataframe\">\n",
       "  <thead>\n",
       "    <tr style=\"text-align: right;\">\n",
       "      <th></th>\n",
       "      <th>refined_RMSD</th>\n",
       "      <th>refined_num_atoms</th>\n",
       "      <th>n_cycles</th>\n",
       "      <th>raw_RMSD</th>\n",
       "      <th>raw_num_atoms</th>\n",
       "      <th>aligment_score</th>\n",
       "      <th>n_residues_aligned</th>\n",
       "      <th>lig_n_atoms</th>\n",
       "    </tr>\n",
       "  </thead>\n",
       "  <tbody>\n",
       "    <tr>\n",
       "      <th>5R7Y</th>\n",
       "      <td>0.000000</td>\n",
       "      <td>2363.0</td>\n",
       "      <td>0.0</td>\n",
       "      <td>0.000000</td>\n",
       "      <td>2363.0</td>\n",
       "      <td>1635.0</td>\n",
       "      <td>304.0</td>\n",
       "      <td>13.0</td>\n",
       "    </tr>\n",
       "    <tr>\n",
       "      <th>5R7Z</th>\n",
       "      <td>0.111724</td>\n",
       "      <td>1998.0</td>\n",
       "      <td>5.0</td>\n",
       "      <td>0.361763</td>\n",
       "      <td>2363.0</td>\n",
       "      <td>1635.0</td>\n",
       "      <td>304.0</td>\n",
       "      <td>16.0</td>\n",
       "    </tr>\n",
       "    <tr>\n",
       "      <th>5R80</th>\n",
       "      <td>0.181736</td>\n",
       "      <td>2026.0</td>\n",
       "      <td>5.0</td>\n",
       "      <td>0.462763</td>\n",
       "      <td>2363.0</td>\n",
       "      <td>1635.0</td>\n",
       "      <td>304.0</td>\n",
       "      <td>14.0</td>\n",
       "    </tr>\n",
       "    <tr>\n",
       "      <th>5R81</th>\n",
       "      <td>0.253575</td>\n",
       "      <td>2059.0</td>\n",
       "      <td>5.0</td>\n",
       "      <td>0.468326</td>\n",
       "      <td>2363.0</td>\n",
       "      <td>1635.0</td>\n",
       "      <td>304.0</td>\n",
       "      <td>15.0</td>\n",
       "    </tr>\n",
       "    <tr>\n",
       "      <th>5R82</th>\n",
       "      <td>0.132095</td>\n",
       "      <td>2039.0</td>\n",
       "      <td>5.0</td>\n",
       "      <td>0.406972</td>\n",
       "      <td>2363.0</td>\n",
       "      <td>1635.0</td>\n",
       "      <td>304.0</td>\n",
       "      <td>11.0</td>\n",
       "    </tr>\n",
       "    <tr>\n",
       "      <th>5R83</th>\n",
       "      <td>0.125161</td>\n",
       "      <td>1974.0</td>\n",
       "      <td>5.0</td>\n",
       "      <td>0.368668</td>\n",
       "      <td>2363.0</td>\n",
       "      <td>1635.0</td>\n",
       "      <td>304.0</td>\n",
       "      <td>16.0</td>\n",
       "    </tr>\n",
       "    <tr>\n",
       "      <th>5R84</th>\n",
       "      <td>0.255336</td>\n",
       "      <td>2025.0</td>\n",
       "      <td>5.0</td>\n",
       "      <td>0.596637</td>\n",
       "      <td>2355.0</td>\n",
       "      <td>1635.0</td>\n",
       "      <td>304.0</td>\n",
       "      <td>16.0</td>\n",
       "    </tr>\n",
       "    <tr>\n",
       "      <th>5R8T</th>\n",
       "      <td>0.149937</td>\n",
       "      <td>2007.0</td>\n",
       "      <td>5.0</td>\n",
       "      <td>0.395379</td>\n",
       "      <td>2358.0</td>\n",
       "      <td>1635.0</td>\n",
       "      <td>304.0</td>\n",
       "      <td>0.0</td>\n",
       "    </tr>\n",
       "    <tr>\n",
       "      <th>5RE4</th>\n",
       "      <td>0.220353</td>\n",
       "      <td>2127.0</td>\n",
       "      <td>5.0</td>\n",
       "      <td>0.428254</td>\n",
       "      <td>2363.0</td>\n",
       "      <td>1635.0</td>\n",
       "      <td>304.0</td>\n",
       "      <td>11.0</td>\n",
       "    </tr>\n",
       "    <tr>\n",
       "      <th>5RE5</th>\n",
       "      <td>0.225244</td>\n",
       "      <td>2032.0</td>\n",
       "      <td>5.0</td>\n",
       "      <td>0.451251</td>\n",
       "      <td>2363.0</td>\n",
       "      <td>1635.0</td>\n",
       "      <td>304.0</td>\n",
       "      <td>0.0</td>\n",
       "    </tr>\n",
       "  </tbody>\n",
       "</table>\n",
       "</div>"
      ],
      "text/plain": [
       "      refined_RMSD  refined_num_atoms  n_cycles  raw_RMSD  raw_num_atoms  \\\n",
       "5R7Y      0.000000             2363.0       0.0  0.000000         2363.0   \n",
       "5R7Z      0.111724             1998.0       5.0  0.361763         2363.0   \n",
       "5R80      0.181736             2026.0       5.0  0.462763         2363.0   \n",
       "5R81      0.253575             2059.0       5.0  0.468326         2363.0   \n",
       "5R82      0.132095             2039.0       5.0  0.406972         2363.0   \n",
       "5R83      0.125161             1974.0       5.0  0.368668         2363.0   \n",
       "5R84      0.255336             2025.0       5.0  0.596637         2355.0   \n",
       "5R8T      0.149937             2007.0       5.0  0.395379         2358.0   \n",
       "5RE4      0.220353             2127.0       5.0  0.428254         2363.0   \n",
       "5RE5      0.225244             2032.0       5.0  0.451251         2363.0   \n",
       "\n",
       "      aligment_score  n_residues_aligned  lig_n_atoms  \n",
       "5R7Y          1635.0               304.0         13.0  \n",
       "5R7Z          1635.0               304.0         16.0  \n",
       "5R80          1635.0               304.0         14.0  \n",
       "5R81          1635.0               304.0         15.0  \n",
       "5R82          1635.0               304.0         11.0  \n",
       "5R83          1635.0               304.0         16.0  \n",
       "5R84          1635.0               304.0         16.0  \n",
       "5R8T          1635.0               304.0          0.0  \n",
       "5RE4          1635.0               304.0         11.0  \n",
       "5RE5          1635.0               304.0          0.0  "
      ]
     },
     "execution_count": 4,
     "metadata": {},
     "output_type": "execute_result"
    }
   ],
   "source": [
    "matrix=pd.DataFrame()\n",
    "for pdb in Mpro_PDB[:10]:\n",
    "    data=fetch_structure(target=pdb,target_chain='A',reference='5R7Y',reference_chain='A',output_folder='Example',extract_ligands=True)\n",
    "    matrix=pd.concat([matrix,data])\n",
    "matrix"
   ]
  },
  {
   "cell_type": "code",
   "execution_count": null,
   "id": "277742aa-46bd-474a-a4c3-2985d5803be4",
   "metadata": {
    "tags": []
   },
   "outputs": [],
   "source": []
  },
  {
   "cell_type": "code",
   "execution_count": null,
   "id": "9d1fcd59-efbe-4965-a53b-6e0cf77095b8",
   "metadata": {
    "tags": []
   },
   "outputs": [],
   "source": [
    "import subprocess\n",
    "import os"
   ]
  },
  {
   "cell_type": "code",
   "execution_count": null,
   "id": "a9d01d80-c756-4566-a584-d523ee8744b0",
   "metadata": {
    "tags": []
   },
   "outputs": [],
   "source": [
    "def get_ligand_receptor_pharmacophore (receptor:str,ligand:str,out:str,out_format:str='json',cmd:str='pharma'):\n",
    "    args = (\"PyPharmer/bin/pharmitserver\",\"-cmd\", cmd, \"-receptor\", receptor, \"-in\", ligand, \"-out\", f'{out}.{out_format}')\n",
    "    popen = subprocess.Popen(args, stdout=subprocess.PIPE)\n",
    "    popen.wait()\n",
    "    output = popen.stdout.read()"
   ]
  },
  {
   "cell_type": "code",
   "execution_count": null,
   "id": "13b66024-11a4-4fcb-952a-b42444640f2a",
   "metadata": {
    "tags": []
   },
   "outputs": [],
   "source": [
    "get_ligand_receptor_pharmacophore(receptor='Example//5R7Y_A.pdb',ligand='Example/structures/ligands/5R7Y_lig.sdf',out='Example/structures/pharmacophores/5R7Y')"
   ]
  },
  {
   "cell_type": "code",
   "execution_count": null,
   "id": "bc6c24a6-5a28-400d-bf2e-11bcd2dcc05e",
   "metadata": {},
   "outputs": [],
   "source": []
  }
 ],
 "metadata": {
  "kernelspec": {
   "display_name": "PyPharmer",
   "language": "python",
   "name": "pypharmer"
  },
  "language_info": {
   "codemirror_mode": {
    "name": "ipython",
    "version": 3
   },
   "file_extension": ".py",
   "mimetype": "text/x-python",
   "name": "python",
   "nbconvert_exporter": "python",
   "pygments_lexer": "ipython3",
   "version": "3.6.13"
  }
 },
 "nbformat": 4,
 "nbformat_minor": 5
}
